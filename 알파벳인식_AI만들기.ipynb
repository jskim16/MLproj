{
  "nbformat": 4,
  "nbformat_minor": 0,
  "metadata": {
    "colab": {
      "name": "알파벳인식_AI만들기 (3).ipynb",
      "provenance": [],
      "collapsed_sections": [],
      "include_colab_link": true
    },
    "kernelspec": {
      "name": "python3",
      "display_name": "Python 3"
    },
    "accelerator": "GPU"
  },
  "cells": [
    {
      "cell_type": "markdown",
      "metadata": {
        "id": "view-in-github",
        "colab_type": "text"
      },
      "source": [
        "<a href=\"https://colab.research.google.com/github/jskim16/MLproj/blob/main/%EC%95%8C%ED%8C%8C%EB%B2%B3%EC%9D%B8%EC%8B%9D_AI%EB%A7%8C%EB%93%A4%EA%B8%B0.ipynb\" target=\"_parent\"><img src=\"https://colab.research.google.com/assets/colab-badge.svg\" alt=\"Open In Colab\"/></a>"
      ]
    },
    {
      "cell_type": "code",
      "metadata": {
        "id": "8qQarQcOFv06",
        "colab": {
          "base_uri": "https://localhost:8080/"
        },
        "outputId": "18a8c940-79ce-45ed-e56d-3ef3ed4dc488"
      },
      "source": [
        "from google.colab import drive\n",
        "drive.mount('/content/drive')"
      ],
      "execution_count": 1,
      "outputs": [
        {
          "output_type": "stream",
          "text": [
            "Mounted at /content/drive\n"
          ],
          "name": "stdout"
        }
      ]
    },
    {
      "cell_type": "code",
      "metadata": {
        "id": "pa5G1pKcV8de"
      },
      "source": [
        "from PIL import Image\n",
        "\n",
        "import matplotlib.pyplot as plt\n",
        "%matplotlib inline"
      ],
      "execution_count": 2,
      "outputs": []
    },
    {
      "cell_type": "code",
      "metadata": {
        "id": "UD5XXNf_XC8h"
      },
      "source": [
        "import tensorflow as tf\n",
        "import pandas as pd\n",
        "import numpy as np\n",
        "import cv2\n",
        "from keras.models import Sequential\n",
        "from keras.layers import Dense\n",
        "from keras.layers import Dropout\n",
        "from keras.layers import Flatten\n",
        "from keras.layers.convolutional import Conv2D\n",
        "from keras.layers.convolutional import MaxPooling2D\n",
        "from keras import backend as K\n",
        "from keras.utils import np_utils\n",
        "from sklearn.model_selection import train_test_split\n",
        "from sklearn.metrics import confusion_matrix\n",
        "from sklearn.preprocessing import MinMaxScaler\n",
        "from sklearn.model_selection import train_test_split\n",
        "from google.colab import drive"
      ],
      "execution_count": 3,
      "outputs": []
    },
    {
      "cell_type": "code",
      "metadata": {
        "id": "D4X_V03dSYbD"
      },
      "source": [
        "dataset = pd.read_csv('/content/drive/MyDrive/Colab Notebooks/A_Z Handwritten Data.csv').astype('float32')\n",
        "dataset.rename(columns={'0':'label'}, inplace=True)\n",
        "\n",
        "x = dataset.drop('label', axis = 1)\n",
        "y = dataset['label']\n",
        "\n",
        "train_images, test_images, train_labels, test_labels = train_test_split(x, y)"
      ],
      "execution_count": 4,
      "outputs": []
    },
    {
      "cell_type": "code",
      "metadata": {
        "id": "yxTwMBcmYTv7"
      },
      "source": [
        "minMaxScaler = MinMaxScaler()\n",
        "minMaxScaler.fit(train_images)\n",
        "\n",
        "train_images = minMaxScaler.transform(train_images)\n",
        "test_images = minMaxScaler.transform(test_images)\n",
        "\n",
        "train_images = train_images.reshape(train_images.shape[0], 28, 28, 1).astype('float32')\n",
        "test_images = test_images.reshape(test_images.shape[0], 28, 28, 1).astype('float32')\n",
        "\n",
        "train_labels = np_utils.to_categorical(train_labels)\n",
        "test_labels = np_utils.to_categorical(test_labels)"
      ],
      "execution_count": 5,
      "outputs": []
    },
    {
      "cell_type": "code",
      "metadata": {
        "id": "2NqUaTIAbpzO"
      },
      "source": [
        "from keras import models\n",
        "from keras import layers"
      ],
      "execution_count": 6,
      "outputs": []
    },
    {
      "cell_type": "code",
      "metadata": {
        "id": "iB6iHa6PI3sx"
      },
      "source": [
        "model = Sequential()\n",
        "model.add(Conv2D(32, (5, 5), input_shape=(28, 28, 1), activation='relu'))\n",
        "model.add(MaxPooling2D(pool_size=(2, 2)))\n",
        "model.add(Dropout(0.3))\n",
        "model.add(Flatten())\n",
        "model.add(Dense(128, activation='relu'))\n",
        "model.add(Dense(len(y.unique()), activation='softmax'))\n",
        "\n",
        "model.compile(loss='categorical_crossentropy', optimizer='adam', metrics=['accuracy'])"
      ],
      "execution_count": 7,
      "outputs": []
    },
    {
      "cell_type": "code",
      "metadata": {
        "id": "WIuICNEEkn5P"
      },
      "source": [
        "model.compile(optimizer = 'rmsprop',\n",
        "              loss = 'categorical_crossentropy',\n",
        "              metrics = ['accuracy'])"
      ],
      "execution_count": 8,
      "outputs": []
    },
    {
      "cell_type": "code",
      "metadata": {
        "colab": {
          "base_uri": "https://localhost:8080/"
        },
        "id": "CeqeAwGxngLg",
        "outputId": "65dba335-df85-4b24-c5cd-95c994aa6b3f"
      },
      "source": [
        "model.fit(train_images, train_labels, epochs=5, batch_size=256)"
      ],
      "execution_count": 9,
      "outputs": [
        {
          "output_type": "stream",
          "text": [
            "Epoch 1/5\n",
            "1092/1092 [==============================] - 5s 5ms/step - loss: 0.2473 - accuracy: 0.9303\n",
            "Epoch 2/5\n",
            "1092/1092 [==============================] - 5s 5ms/step - loss: 0.0833 - accuracy: 0.9769\n",
            "Epoch 3/5\n",
            "1092/1092 [==============================] - 5s 5ms/step - loss: 0.0624 - accuracy: 0.9827\n",
            "Epoch 4/5\n",
            "1092/1092 [==============================] - 5s 5ms/step - loss: 0.0514 - accuracy: 0.9856\n",
            "Epoch 5/5\n",
            "1092/1092 [==============================] - 5s 5ms/step - loss: 0.0434 - accuracy: 0.9879\n"
          ],
          "name": "stdout"
        },
        {
          "output_type": "execute_result",
          "data": {
            "text/plain": [
              "<tensorflow.python.keras.callbacks.History at 0x7fa8f7674e48>"
            ]
          },
          "metadata": {
            "tags": []
          },
          "execution_count": 9
        }
      ]
    },
    {
      "cell_type": "code",
      "metadata": {
        "colab": {
          "base_uri": "https://localhost:8080/"
        },
        "id": "NT_S0gkCosBK",
        "outputId": "4960d9b9-3a25-451e-c8d4-b1946188407f"
      },
      "source": [
        "test_loss, test_acc = model.evaluate(test_images, test_labels)"
      ],
      "execution_count": 10,
      "outputs": [
        {
          "output_type": "stream",
          "text": [
            "2910/2910 [==============================] - 7s 2ms/step - loss: 0.0535 - accuracy: 0.9857\n"
          ],
          "name": "stdout"
        }
      ]
    },
    {
      "cell_type": "code",
      "metadata": {
        "id": "jhECp3a2DEP6"
      },
      "source": [
        "train_images = train_images.reshape(train_images.shape[0], 28, 28).astype('float32')\n",
        "test_images = test_images.reshape(test_images.shape[0], 28, 28).astype('float32')"
      ],
      "execution_count": 11,
      "outputs": []
    },
    {
      "cell_type": "code",
      "metadata": {
        "id": "enXFyMj9bOmz"
      },
      "source": [
        "origin_my_image = test_images[0]"
      ],
      "execution_count": 12,
      "outputs": []
    },
    {
      "cell_type": "code",
      "metadata": {
        "colab": {
          "base_uri": "https://localhost:8080/",
          "height": 283
        },
        "id": "lHyoCXiipN3D",
        "outputId": "628da383-37c7-4d2a-f4f9-c8d4692b0a33"
      },
      "source": [
        "myDigit = origin_my_image\n",
        "plt.imshow(myDigit, cmap=plt.cm.binary)"
      ],
      "execution_count": 13,
      "outputs": [
        {
          "output_type": "execute_result",
          "data": {
            "text/plain": [
              "<matplotlib.image.AxesImage at 0x7fa8f7159a20>"
            ]
          },
          "metadata": {
            "tags": []
          },
          "execution_count": 13
        },
        {
          "output_type": "display_data",
          "data": {
            "image/png": "[encoded data removed]",
            "text/plain": [
              "<Figure size 432x288 with 1 Axes>"
            ]
          },
          "metadata": {
            "tags": [],
            "needs_background": "light"
          }
        }
      ]
    },
    {
      "cell_type": "code",
      "metadata": {
        "colab": {
          "base_uri": "https://localhost:8080/"
        },
        "id": "uyXf8otrPqJ7",
        "outputId": "04ed7a50-b2cd-41fa-f3d7-0fa86793839c"
      },
      "source": [
        "img = cv2.imread('M.jpg')\n",
        "resize_img = cv2.resize(img,(28,28))\n",
        "img2 = cv2.cvtColor(resize_img, cv2.COLOR_BGR2GRAY)\n",
        "img2.shape"
      ],
      "execution_count": 44,
      "outputs": [
        {
          "output_type": "execute_result",
          "data": {
            "text/plain": [
              "(28, 28)"
            ]
          },
          "metadata": {
            "tags": []
          },
          "execution_count": 44
        }
      ]
    },
    {
      "cell_type": "code",
      "metadata": {
        "colab": {
          "base_uri": "https://localhost:8080/",
          "height": 283
        },
        "id": "PltVTZwd_f66",
        "outputId": "7adfcc93-666d-4b6c-d44a-1f7eb6715a3f"
      },
      "source": [
        "plt.imshow(resize_img)"
      ],
      "execution_count": 45,
      "outputs": [
        {
          "output_type": "execute_result",
          "data": {
            "text/plain": [
              "<matplotlib.image.AxesImage at 0x7fa89c068f98>"
            ]
          },
          "metadata": {
            "tags": []
          },
          "execution_count": 45
        },
        {
          "output_type": "display_data",
          "data": {
            "image/png": "[encoded data removed]",
            "text/plain": [
              "<Figure size 432x288 with 1 Axes>"
            ]
          },
          "metadata": {
            "tags": [],
            "needs_background": "light"
          }
        }
      ]
    },
    {
      "cell_type": "code",
      "metadata": {
        "id": "6rjmFK4QsYS3",
        "colab": {
          "base_uri": "https://localhost:8080/",
          "height": 283
        },
        "outputId": "3d7143fd-3ebf-4ed1-d325-7347b4b4bf6d"
      },
      "source": [
        "plt.imshow(img2)"
      ],
      "execution_count": 46,
      "outputs": [
        {
          "output_type": "execute_result",
          "data": {
            "text/plain": [
              "<matplotlib.image.AxesImage at 0x7fa89c038c18>"
            ]
          },
          "metadata": {
            "tags": []
          },
          "execution_count": 46
        },
        {
          "output_type": "display_data",
          "data": {
            "image/png": "[encoded data removed]",
            "text/plain": [
              "<Figure size 432x288 with 1 Axes>"
            ]
          },
          "metadata": {
            "tags": [],
            "needs_background": "light"
          }
        }
      ]
    },
    {
      "cell_type": "code",
      "metadata": {
        "id": "7unkmWufZTF3"
      },
      "source": [
        "minMaxScaler.fit(img2)\n",
        "img2 = minMaxScaler.transform(img2)"
      ],
      "execution_count": 47,
      "outputs": []
    },
    {
      "cell_type": "code",
      "metadata": {
        "colab": {
          "base_uri": "https://localhost:8080/"
        },
        "id": "kFT9G_FLNNAt",
        "outputId": "3de0916f-b942-48d1-cf36-e3d6890418c8"
      },
      "source": [
        "img2 = img2.reshape(28, 28, 1).astype('float32')\n",
        "img2.shape"
      ],
      "execution_count": 48,
      "outputs": [
        {
          "output_type": "execute_result",
          "data": {
            "text/plain": [
              "(28, 28, 1)"
            ]
          },
          "metadata": {
            "tags": []
          },
          "execution_count": 48
        }
      ]
    },
    {
      "cell_type": "code",
      "metadata": {
        "colab": {
          "base_uri": "https://localhost:8080/"
        },
        "id": "5FAQ_-ey9FFx",
        "outputId": "e37f022c-4938-4a0d-f3d2-9cf71e9a7d3a"
      },
      "source": [
        "print(img2)"
      ],
      "execution_count": 49,
      "outputs": [
        {
          "output_type": "stream",
          "text": [
            "[[[0.        ]\n",
            "  [0.        ]\n",
            "  [0.        ]\n",
            "  [1.        ]\n",
            "  [1.        ]\n",
            "  [1.        ]\n",
            "  [1.        ]\n",
            "  [1.        ]\n",
            "  [1.        ]\n",
            "  [1.        ]\n",
            "  [1.        ]\n",
            "  [1.        ]\n",
            "  [0.996063  ]\n",
            "  [0.99607843]\n",
            "  [0.996063  ]\n",
            "  [1.        ]\n",
            "  [1.        ]\n",
            "  [1.        ]\n",
            "  [1.        ]\n",
            "  [1.        ]\n",
            "  [1.        ]\n",
            "  [1.        ]\n",
            "  [1.        ]\n",
            "  [0.        ]\n",
            "  [0.        ]\n",
            "  [0.        ]\n",
            "  [0.        ]\n",
            "  [0.        ]]\n",
            "\n",
            " [[0.        ]\n",
            "  [0.        ]\n",
            "  [0.        ]\n",
            "  [1.        ]\n",
            "  [1.        ]\n",
            "  [1.        ]\n",
            "  [1.        ]\n",
            "  [1.        ]\n",
            "  [1.        ]\n",
            "  [1.        ]\n",
            "  [1.        ]\n",
            "  [1.        ]\n",
            "  [0.02755906]\n",
            "  [0.7490196 ]\n",
            "  [1.        ]\n",
            "  [1.        ]\n",
            "  [1.        ]\n",
            "  [1.        ]\n",
            "  [1.        ]\n",
            "  [1.        ]\n",
            "  [0.99215686]\n",
            "  [0.99607843]\n",
            "  [0.99607843]\n",
            "  [0.        ]\n",
            "  [0.        ]\n",
            "  [0.        ]\n",
            "  [0.        ]\n",
            "  [0.        ]]\n",
            "\n",
            " [[0.        ]\n",
            "  [0.        ]\n",
            "  [0.        ]\n",
            "  [1.        ]\n",
            "  [1.        ]\n",
            "  [1.        ]\n",
            "  [1.        ]\n",
            "  [1.        ]\n",
            "  [1.        ]\n",
            "  [1.        ]\n",
            "  [1.        ]\n",
            "  [1.        ]\n",
            "  [0.00393701]\n",
            "  [0.7490196 ]\n",
            "  [1.        ]\n",
            "  [1.        ]\n",
            "  [1.        ]\n",
            "  [1.        ]\n",
            "  [1.        ]\n",
            "  [1.        ]\n",
            "  [1.        ]\n",
            "  [0.98039216]\n",
            "  [0.        ]\n",
            "  [0.        ]\n",
            "  [0.        ]\n",
            "  [0.        ]\n",
            "  [0.        ]\n",
            "  [0.        ]]\n",
            "\n",
            " [[0.        ]\n",
            "  [0.        ]\n",
            "  [0.        ]\n",
            "  [1.        ]\n",
            "  [1.        ]\n",
            "  [1.        ]\n",
            "  [1.        ]\n",
            "  [1.        ]\n",
            "  [1.        ]\n",
            "  [1.        ]\n",
            "  [0.996063  ]\n",
            "  [0.46850392]\n",
            "  [0.        ]\n",
            "  [0.7490196 ]\n",
            "  [1.        ]\n",
            "  [1.        ]\n",
            "  [1.        ]\n",
            "  [1.        ]\n",
            "  [1.        ]\n",
            "  [1.        ]\n",
            "  [0.99607843]\n",
            "  [0.        ]\n",
            "  [0.        ]\n",
            "  [0.        ]\n",
            "  [0.        ]\n",
            "  [0.        ]\n",
            "  [0.        ]\n",
            "  [0.        ]]\n",
            "\n",
            " [[0.        ]\n",
            "  [0.        ]\n",
            "  [0.        ]\n",
            "  [1.        ]\n",
            "  [1.        ]\n",
            "  [1.        ]\n",
            "  [1.        ]\n",
            "  [1.        ]\n",
            "  [1.        ]\n",
            "  [1.        ]\n",
            "  [0.988189  ]\n",
            "  [0.00393701]\n",
            "  [0.7480315 ]\n",
            "  [0.7372549 ]\n",
            "  [1.        ]\n",
            "  [1.        ]\n",
            "  [1.        ]\n",
            "  [1.        ]\n",
            "  [1.        ]\n",
            "  [0.99604744]\n",
            "  [0.24705882]\n",
            "  [0.16862746]\n",
            "  [0.00784314]\n",
            "  [0.        ]\n",
            "  [0.        ]\n",
            "  [0.        ]\n",
            "  [0.        ]\n",
            "  [0.        ]]\n",
            "\n",
            " [[0.        ]\n",
            "  [0.        ]\n",
            "  [0.        ]\n",
            "  [1.        ]\n",
            "  [1.        ]\n",
            "  [1.        ]\n",
            "  [1.        ]\n",
            "  [1.        ]\n",
            "  [1.        ]\n",
            "  [1.        ]\n",
            "  [0.996063  ]\n",
            "  [0.        ]\n",
            "  [1.        ]\n",
            "  [0.        ]\n",
            "  [1.        ]\n",
            "  [1.        ]\n",
            "  [1.        ]\n",
            "  [1.        ]\n",
            "  [1.        ]\n",
            "  [0.9920949 ]\n",
            "  [0.        ]\n",
            "  [1.        ]\n",
            "  [0.        ]\n",
            "  [0.        ]\n",
            "  [0.        ]\n",
            "  [0.        ]\n",
            "  [0.        ]\n",
            "  [0.        ]]\n",
            "\n",
            " [[0.        ]\n",
            "  [0.        ]\n",
            "  [0.        ]\n",
            "  [1.        ]\n",
            "  [1.        ]\n",
            "  [1.        ]\n",
            "  [1.        ]\n",
            "  [1.        ]\n",
            "  [1.        ]\n",
            "  [1.        ]\n",
            "  [0.03543307]\n",
            "  [0.8228347 ]\n",
            "  [0.992126  ]\n",
            "  [0.        ]\n",
            "  [1.        ]\n",
            "  [1.        ]\n",
            "  [1.        ]\n",
            "  [1.        ]\n",
            "  [1.        ]\n",
            "  [0.00790514]\n",
            "  [1.        ]\n",
            "  [0.99607843]\n",
            "  [0.        ]\n",
            "  [0.        ]\n",
            "  [0.        ]\n",
            "  [0.        ]\n",
            "  [0.        ]\n",
            "  [0.        ]]\n",
            "\n",
            " [[0.        ]\n",
            "  [0.        ]\n",
            "  [0.        ]\n",
            "  [1.        ]\n",
            "  [1.        ]\n",
            "  [1.        ]\n",
            "  [1.        ]\n",
            "  [1.        ]\n",
            "  [1.        ]\n",
            "  [0.996063  ]\n",
            "  [0.        ]\n",
            "  [0.996063  ]\n",
            "  [1.        ]\n",
            "  [0.        ]\n",
            "  [1.        ]\n",
            "  [1.        ]\n",
            "  [1.        ]\n",
            "  [1.        ]\n",
            "  [1.        ]\n",
            "  [0.        ]\n",
            "  [1.        ]\n",
            "  [1.        ]\n",
            "  [0.        ]\n",
            "  [0.        ]\n",
            "  [0.        ]\n",
            "  [0.        ]\n",
            "  [0.        ]\n",
            "  [0.        ]]\n",
            "\n",
            " [[0.        ]\n",
            "  [0.        ]\n",
            "  [0.        ]\n",
            "  [1.        ]\n",
            "  [1.        ]\n",
            "  [1.        ]\n",
            "  [1.        ]\n",
            "  [1.        ]\n",
            "  [1.        ]\n",
            "  [0.95669293]\n",
            "  [0.02362205]\n",
            "  [0.996063  ]\n",
            "  [0.992126  ]\n",
            "  [0.00392157]\n",
            "  [1.        ]\n",
            "  [1.        ]\n",
            "  [1.        ]\n",
            "  [1.        ]\n",
            "  [0.06692913]\n",
            "  [0.5217391 ]\n",
            "  [1.        ]\n",
            "  [1.        ]\n",
            "  [0.        ]\n",
            "  [0.        ]\n",
            "  [0.        ]\n",
            "  [0.        ]\n",
            "  [0.        ]\n",
            "  [0.        ]]\n",
            "\n",
            " [[0.        ]\n",
            "  [0.        ]\n",
            "  [0.        ]\n",
            "  [1.        ]\n",
            "  [1.        ]\n",
            "  [1.        ]\n",
            "  [1.        ]\n",
            "  [1.        ]\n",
            "  [1.        ]\n",
            "  [0.00393701]\n",
            "  [0.988189  ]\n",
            "  [0.992126  ]\n",
            "  [1.        ]\n",
            "  [0.        ]\n",
            "  [1.        ]\n",
            "  [1.        ]\n",
            "  [1.        ]\n",
            "  [1.        ]\n",
            "  [0.        ]\n",
            "  [0.9920949 ]\n",
            "  [1.        ]\n",
            "  [1.        ]\n",
            "  [0.        ]\n",
            "  [0.        ]\n",
            "  [0.        ]\n",
            "  [0.        ]\n",
            "  [0.        ]\n",
            "  [0.        ]]\n",
            "\n",
            " [[0.        ]\n",
            "  [0.        ]\n",
            "  [0.        ]\n",
            "  [1.        ]\n",
            "  [1.        ]\n",
            "  [1.        ]\n",
            "  [1.        ]\n",
            "  [1.        ]\n",
            "  [1.        ]\n",
            "  [0.        ]\n",
            "  [1.        ]\n",
            "  [0.996063  ]\n",
            "  [1.        ]\n",
            "  [0.        ]\n",
            "  [1.        ]\n",
            "  [1.        ]\n",
            "  [1.        ]\n",
            "  [0.62992126]\n",
            "  [0.23622048]\n",
            "  [1.        ]\n",
            "  [1.        ]\n",
            "  [1.        ]\n",
            "  [0.        ]\n",
            "  [0.        ]\n",
            "  [0.        ]\n",
            "  [0.        ]\n",
            "  [0.        ]\n",
            "  [0.        ]]\n",
            "\n",
            " [[0.        ]\n",
            "  [0.        ]\n",
            "  [0.        ]\n",
            "  [1.        ]\n",
            "  [1.        ]\n",
            "  [1.        ]\n",
            "  [1.        ]\n",
            "  [0.996063  ]\n",
            "  [0.78431374]\n",
            "  [0.        ]\n",
            "  [1.        ]\n",
            "  [1.        ]\n",
            "  [1.        ]\n",
            "  [0.        ]\n",
            "  [1.        ]\n",
            "  [1.        ]\n",
            "  [0.99215686]\n",
            "  [0.        ]\n",
            "  [1.        ]\n",
            "  [1.        ]\n",
            "  [0.99607843]\n",
            "  [0.99215686]\n",
            "  [0.00392157]\n",
            "  [0.        ]\n",
            "  [0.        ]\n",
            "  [0.        ]\n",
            "  [0.        ]\n",
            "  [0.        ]]\n",
            "\n",
            " [[0.        ]\n",
            "  [0.        ]\n",
            "  [0.        ]\n",
            "  [1.        ]\n",
            "  [1.        ]\n",
            "  [1.        ]\n",
            "  [1.        ]\n",
            "  [0.992126  ]\n",
            "  [0.00392157]\n",
            "  [0.996063  ]\n",
            "  [1.        ]\n",
            "  [1.        ]\n",
            "  [1.        ]\n",
            "  [0.00392157]\n",
            "  [1.        ]\n",
            "  [0.992126  ]\n",
            "  [0.42352942]\n",
            "  [0.36220473]\n",
            "  [0.996063  ]\n",
            "  [1.        ]\n",
            "  [1.        ]\n",
            "  [1.        ]\n",
            "  [0.2509804 ]\n",
            "  [0.        ]\n",
            "  [0.        ]\n",
            "  [0.        ]\n",
            "  [0.        ]\n",
            "  [0.        ]]\n",
            "\n",
            " [[0.        ]\n",
            "  [0.        ]\n",
            "  [0.        ]\n",
            "  [1.        ]\n",
            "  [1.        ]\n",
            "  [1.        ]\n",
            "  [1.        ]\n",
            "  [0.996063  ]\n",
            "  [0.        ]\n",
            "  [0.996063  ]\n",
            "  [1.        ]\n",
            "  [1.        ]\n",
            "  [1.        ]\n",
            "  [0.00392157]\n",
            "  [1.        ]\n",
            "  [1.        ]\n",
            "  [0.        ]\n",
            "  [0.996063  ]\n",
            "  [1.        ]\n",
            "  [1.        ]\n",
            "  [0.99607843]\n",
            "  [0.99607843]\n",
            "  [0.2509804 ]\n",
            "  [0.        ]\n",
            "  [0.        ]\n",
            "  [0.        ]\n",
            "  [0.        ]\n",
            "  [0.        ]]\n",
            "\n",
            " [[0.        ]\n",
            "  [0.        ]\n",
            "  [0.        ]\n",
            "  [1.        ]\n",
            "  [1.        ]\n",
            "  [1.        ]\n",
            "  [1.        ]\n",
            "  [0.19291338]\n",
            "  [0.2901961 ]\n",
            "  [0.996063  ]\n",
            "  [1.        ]\n",
            "  [1.        ]\n",
            "  [1.        ]\n",
            "  [0.13725491]\n",
            "  [0.988189  ]\n",
            "  [0.        ]\n",
            "  [0.88235295]\n",
            "  [1.        ]\n",
            "  [1.        ]\n",
            "  [1.        ]\n",
            "  [0.99607843]\n",
            "  [0.2627451 ]\n",
            "  [0.8901961 ]\n",
            "  [0.        ]\n",
            "  [0.        ]\n",
            "  [0.        ]\n",
            "  [0.        ]\n",
            "  [0.        ]]\n",
            "\n",
            " [[0.        ]\n",
            "  [0.        ]\n",
            "  [0.        ]\n",
            "  [1.        ]\n",
            "  [1.        ]\n",
            "  [1.        ]\n",
            "  [0.996063  ]\n",
            "  [0.        ]\n",
            "  [0.99607843]\n",
            "  [1.        ]\n",
            "  [1.        ]\n",
            "  [1.        ]\n",
            "  [1.        ]\n",
            "  [0.92941177]\n",
            "  [0.        ]\n",
            "  [0.96062994]\n",
            "  [1.        ]\n",
            "  [1.        ]\n",
            "  [1.        ]\n",
            "  [1.        ]\n",
            "  [0.99607843]\n",
            "  [0.2509804 ]\n",
            "  [1.        ]\n",
            "  [0.        ]\n",
            "  [0.        ]\n",
            "  [0.        ]\n",
            "  [0.        ]\n",
            "  [0.        ]]\n",
            "\n",
            " [[0.        ]\n",
            "  [0.        ]\n",
            "  [0.        ]\n",
            "  [1.        ]\n",
            "  [1.        ]\n",
            "  [1.        ]\n",
            "  [0.5551181 ]\n",
            "  [0.23228346]\n",
            "  [0.99607843]\n",
            "  [1.        ]\n",
            "  [1.        ]\n",
            "  [1.        ]\n",
            "  [1.        ]\n",
            "  [1.        ]\n",
            "  [1.        ]\n",
            "  [1.        ]\n",
            "  [1.        ]\n",
            "  [1.        ]\n",
            "  [1.        ]\n",
            "  [1.        ]\n",
            "  [1.        ]\n",
            "  [0.00392157]\n",
            "  [0.99607843]\n",
            "  [0.        ]\n",
            "  [0.        ]\n",
            "  [0.        ]\n",
            "  [0.        ]\n",
            "  [0.        ]]\n",
            "\n",
            " [[0.        ]\n",
            "  [0.        ]\n",
            "  [0.        ]\n",
            "  [1.        ]\n",
            "  [0.996063  ]\n",
            "  [0.99215686]\n",
            "  [0.        ]\n",
            "  [0.996063  ]\n",
            "  [1.        ]\n",
            "  [1.        ]\n",
            "  [1.        ]\n",
            "  [1.        ]\n",
            "  [1.        ]\n",
            "  [1.        ]\n",
            "  [1.        ]\n",
            "  [1.        ]\n",
            "  [1.        ]\n",
            "  [1.        ]\n",
            "  [1.        ]\n",
            "  [1.        ]\n",
            "  [0.99607843]\n",
            "  [0.00392157]\n",
            "  [0.99607843]\n",
            "  [0.        ]\n",
            "  [0.        ]\n",
            "  [0.        ]\n",
            "  [0.        ]\n",
            "  [0.        ]]\n",
            "\n",
            " [[0.        ]\n",
            "  [0.        ]\n",
            "  [0.        ]\n",
            "  [1.        ]\n",
            "  [0.992126  ]\n",
            "  [0.        ]\n",
            "  [0.992126  ]\n",
            "  [1.        ]\n",
            "  [1.        ]\n",
            "  [1.        ]\n",
            "  [1.        ]\n",
            "  [1.        ]\n",
            "  [1.        ]\n",
            "  [1.        ]\n",
            "  [1.        ]\n",
            "  [1.        ]\n",
            "  [1.        ]\n",
            "  [1.        ]\n",
            "  [1.        ]\n",
            "  [1.        ]\n",
            "  [0.99607843]\n",
            "  [0.        ]\n",
            "  [0.99607843]\n",
            "  [0.        ]\n",
            "  [0.        ]\n",
            "  [0.        ]\n",
            "  [0.        ]\n",
            "  [0.        ]]\n",
            "\n",
            " [[0.        ]\n",
            "  [0.        ]\n",
            "  [0.        ]\n",
            "  [1.        ]\n",
            "  [0.        ]\n",
            "  [0.59607846]\n",
            "  [0.988189  ]\n",
            "  [1.        ]\n",
            "  [1.        ]\n",
            "  [1.        ]\n",
            "  [1.        ]\n",
            "  [1.        ]\n",
            "  [1.        ]\n",
            "  [1.        ]\n",
            "  [1.        ]\n",
            "  [1.        ]\n",
            "  [1.        ]\n",
            "  [1.        ]\n",
            "  [1.        ]\n",
            "  [1.        ]\n",
            "  [1.        ]\n",
            "  [0.        ]\n",
            "  [1.        ]\n",
            "  [0.        ]\n",
            "  [0.        ]\n",
            "  [0.        ]\n",
            "  [0.        ]\n",
            "  [0.        ]]\n",
            "\n",
            " [[0.        ]\n",
            "  [0.        ]\n",
            "  [0.        ]\n",
            "  [0.        ]\n",
            "  [0.27559054]\n",
            "  [0.99215686]\n",
            "  [1.        ]\n",
            "  [1.        ]\n",
            "  [1.        ]\n",
            "  [1.        ]\n",
            "  [1.        ]\n",
            "  [1.        ]\n",
            "  [1.        ]\n",
            "  [1.        ]\n",
            "  [1.        ]\n",
            "  [1.        ]\n",
            "  [1.        ]\n",
            "  [1.        ]\n",
            "  [1.        ]\n",
            "  [1.        ]\n",
            "  [0.99607843]\n",
            "  [0.00392157]\n",
            "  [1.        ]\n",
            "  [0.        ]\n",
            "  [0.        ]\n",
            "  [0.        ]\n",
            "  [0.        ]\n",
            "  [0.        ]]\n",
            "\n",
            " [[0.        ]\n",
            "  [0.        ]\n",
            "  [0.        ]\n",
            "  [1.        ]\n",
            "  [1.        ]\n",
            "  [0.99607843]\n",
            "  [1.        ]\n",
            "  [1.        ]\n",
            "  [1.        ]\n",
            "  [1.        ]\n",
            "  [1.        ]\n",
            "  [1.        ]\n",
            "  [1.        ]\n",
            "  [1.        ]\n",
            "  [1.        ]\n",
            "  [1.        ]\n",
            "  [1.        ]\n",
            "  [1.        ]\n",
            "  [1.        ]\n",
            "  [1.        ]\n",
            "  [0.99607843]\n",
            "  [0.00392157]\n",
            "  [0.99607843]\n",
            "  [0.        ]\n",
            "  [0.        ]\n",
            "  [0.        ]\n",
            "  [0.        ]\n",
            "  [0.        ]]\n",
            "\n",
            " [[0.        ]\n",
            "  [0.        ]\n",
            "  [0.        ]\n",
            "  [1.        ]\n",
            "  [1.        ]\n",
            "  [1.        ]\n",
            "  [1.        ]\n",
            "  [1.        ]\n",
            "  [1.        ]\n",
            "  [1.        ]\n",
            "  [1.        ]\n",
            "  [1.        ]\n",
            "  [1.        ]\n",
            "  [1.        ]\n",
            "  [1.        ]\n",
            "  [1.        ]\n",
            "  [1.        ]\n",
            "  [1.        ]\n",
            "  [1.        ]\n",
            "  [1.        ]\n",
            "  [0.99607843]\n",
            "  [0.        ]\n",
            "  [1.        ]\n",
            "  [0.        ]\n",
            "  [0.        ]\n",
            "  [0.        ]\n",
            "  [0.        ]\n",
            "  [0.        ]]\n",
            "\n",
            " [[0.        ]\n",
            "  [0.        ]\n",
            "  [0.        ]\n",
            "  [1.        ]\n",
            "  [1.        ]\n",
            "  [1.        ]\n",
            "  [1.        ]\n",
            "  [1.        ]\n",
            "  [1.        ]\n",
            "  [1.        ]\n",
            "  [1.        ]\n",
            "  [1.        ]\n",
            "  [1.        ]\n",
            "  [1.        ]\n",
            "  [1.        ]\n",
            "  [1.        ]\n",
            "  [1.        ]\n",
            "  [1.        ]\n",
            "  [1.        ]\n",
            "  [1.        ]\n",
            "  [0.99607843]\n",
            "  [0.        ]\n",
            "  [1.        ]\n",
            "  [0.        ]\n",
            "  [0.        ]\n",
            "  [0.        ]\n",
            "  [0.        ]\n",
            "  [0.        ]]\n",
            "\n",
            " [[0.        ]\n",
            "  [0.        ]\n",
            "  [0.        ]\n",
            "  [1.        ]\n",
            "  [1.        ]\n",
            "  [1.        ]\n",
            "  [1.        ]\n",
            "  [1.        ]\n",
            "  [1.        ]\n",
            "  [1.        ]\n",
            "  [1.        ]\n",
            "  [1.        ]\n",
            "  [1.        ]\n",
            "  [1.        ]\n",
            "  [1.        ]\n",
            "  [1.        ]\n",
            "  [1.        ]\n",
            "  [1.        ]\n",
            "  [1.        ]\n",
            "  [1.        ]\n",
            "  [0.99607843]\n",
            "  [0.06666667]\n",
            "  [1.        ]\n",
            "  [0.        ]\n",
            "  [0.        ]\n",
            "  [0.        ]\n",
            "  [0.        ]\n",
            "  [0.        ]]\n",
            "\n",
            " [[0.        ]\n",
            "  [0.        ]\n",
            "  [0.        ]\n",
            "  [1.        ]\n",
            "  [1.        ]\n",
            "  [1.        ]\n",
            "  [1.        ]\n",
            "  [1.        ]\n",
            "  [1.        ]\n",
            "  [1.        ]\n",
            "  [1.        ]\n",
            "  [1.        ]\n",
            "  [1.        ]\n",
            "  [1.        ]\n",
            "  [1.        ]\n",
            "  [1.        ]\n",
            "  [1.        ]\n",
            "  [1.        ]\n",
            "  [1.        ]\n",
            "  [1.        ]\n",
            "  [0.99607843]\n",
            "  [0.99215686]\n",
            "  [1.        ]\n",
            "  [0.        ]\n",
            "  [0.        ]\n",
            "  [0.        ]\n",
            "  [0.        ]\n",
            "  [0.        ]]\n",
            "\n",
            " [[0.        ]\n",
            "  [0.        ]\n",
            "  [0.        ]\n",
            "  [1.        ]\n",
            "  [1.        ]\n",
            "  [1.        ]\n",
            "  [1.        ]\n",
            "  [1.        ]\n",
            "  [1.        ]\n",
            "  [1.        ]\n",
            "  [1.        ]\n",
            "  [1.        ]\n",
            "  [1.        ]\n",
            "  [1.        ]\n",
            "  [1.        ]\n",
            "  [1.        ]\n",
            "  [1.        ]\n",
            "  [1.        ]\n",
            "  [1.        ]\n",
            "  [1.        ]\n",
            "  [1.        ]\n",
            "  [1.        ]\n",
            "  [1.        ]\n",
            "  [0.        ]\n",
            "  [0.        ]\n",
            "  [0.        ]\n",
            "  [0.        ]\n",
            "  [0.        ]]\n",
            "\n",
            " [[0.        ]\n",
            "  [0.        ]\n",
            "  [0.        ]\n",
            "  [1.        ]\n",
            "  [1.        ]\n",
            "  [1.        ]\n",
            "  [1.        ]\n",
            "  [1.        ]\n",
            "  [1.        ]\n",
            "  [1.        ]\n",
            "  [1.        ]\n",
            "  [1.        ]\n",
            "  [1.        ]\n",
            "  [1.        ]\n",
            "  [1.        ]\n",
            "  [1.        ]\n",
            "  [1.        ]\n",
            "  [1.        ]\n",
            "  [1.        ]\n",
            "  [1.        ]\n",
            "  [1.        ]\n",
            "  [1.        ]\n",
            "  [1.        ]\n",
            "  [0.        ]\n",
            "  [0.        ]\n",
            "  [0.        ]\n",
            "  [0.        ]\n",
            "  [0.        ]]]\n"
          ],
          "name": "stdout"
        }
      ]
    },
    {
      "cell_type": "code",
      "metadata": {
        "id": "Ae1zRkEatqx0",
        "colab": {
          "base_uri": "https://localhost:8080/",
          "height": 718
        },
        "outputId": "2fa6b211-6953-48ad-fe79-8727885407a1"
      },
      "source": [
        "output = model.predict(img2)\n",
        "print(\"결과는 : \", np.argmax(output))"
      ],
      "execution_count": 29,
      "outputs": [
        {
          "output_type": "error",
          "ename": "ValueError",
          "evalue": "ignored",
          "traceback": [
            "\u001b[0;31m---------------------------------------------------------------------------\u001b[0m",
            "\u001b[0;31mValueError\u001b[0m                                Traceback (most recent call last)",
            "\u001b[0;32m<ipython-input-29-a92e818b4f6f>\u001b[0m in \u001b[0;36m<module>\u001b[0;34m()\u001b[0m\n\u001b[0;32m----> 1\u001b[0;31m \u001b[0moutput\u001b[0m \u001b[0;34m=\u001b[0m \u001b[0mmodel\u001b[0m\u001b[0;34m.\u001b[0m\u001b[0mpredict\u001b[0m\u001b[0;34m(\u001b[0m\u001b[0mimg2\u001b[0m\u001b[0;34m)\u001b[0m\u001b[0;34m\u001b[0m\u001b[0;34m\u001b[0m\u001b[0m\n\u001b[0m\u001b[1;32m      2\u001b[0m \u001b[0mprint\u001b[0m\u001b[0;34m(\u001b[0m\u001b[0;34m\"결과는 : \"\u001b[0m\u001b[0;34m,\u001b[0m \u001b[0mnp\u001b[0m\u001b[0;34m.\u001b[0m\u001b[0margmax\u001b[0m\u001b[0;34m(\u001b[0m\u001b[0moutput\u001b[0m\u001b[0;34m)\u001b[0m\u001b[0;34m)\u001b[0m\u001b[0;34m\u001b[0m\u001b[0;34m\u001b[0m\u001b[0m\n",
            "\u001b[0;32m/usr/local/lib/python3.6/dist-packages/tensorflow/python/keras/engine/training.py\u001b[0m in \u001b[0;36m_method_wrapper\u001b[0;34m(self, *args, **kwargs)\u001b[0m\n\u001b[1;32m    128\u001b[0m       raise ValueError('{} is not supported in multi-worker mode.'.format(\n\u001b[1;32m    129\u001b[0m           method.__name__))\n\u001b[0;32m--> 130\u001b[0;31m     \u001b[0;32mreturn\u001b[0m \u001b[0mmethod\u001b[0m\u001b[0;34m(\u001b[0m\u001b[0mself\u001b[0m\u001b[0;34m,\u001b[0m \u001b[0;34m*\u001b[0m\u001b[0margs\u001b[0m\u001b[0;34m,\u001b[0m \u001b[0;34m**\u001b[0m\u001b[0mkwargs\u001b[0m\u001b[0;34m)\u001b[0m\u001b[0;34m\u001b[0m\u001b[0;34m\u001b[0m\u001b[0m\n\u001b[0m\u001b[1;32m    131\u001b[0m \u001b[0;34m\u001b[0m\u001b[0m\n\u001b[1;32m    132\u001b[0m   return tf_decorator.make_decorator(\n",
            "\u001b[0;32m/usr/local/lib/python3.6/dist-packages/tensorflow/python/keras/engine/training.py\u001b[0m in \u001b[0;36mpredict\u001b[0;34m(self, x, batch_size, verbose, steps, callbacks, max_queue_size, workers, use_multiprocessing)\u001b[0m\n\u001b[1;32m   1597\u001b[0m           \u001b[0;32mfor\u001b[0m \u001b[0mstep\u001b[0m \u001b[0;32min\u001b[0m \u001b[0mdata_handler\u001b[0m\u001b[0;34m.\u001b[0m\u001b[0msteps\u001b[0m\u001b[0;34m(\u001b[0m\u001b[0;34m)\u001b[0m\u001b[0;34m:\u001b[0m\u001b[0;34m\u001b[0m\u001b[0;34m\u001b[0m\u001b[0m\n\u001b[1;32m   1598\u001b[0m             \u001b[0mcallbacks\u001b[0m\u001b[0;34m.\u001b[0m\u001b[0mon_predict_batch_begin\u001b[0m\u001b[0;34m(\u001b[0m\u001b[0mstep\u001b[0m\u001b[0;34m)\u001b[0m\u001b[0;34m\u001b[0m\u001b[0;34m\u001b[0m\u001b[0m\n\u001b[0;32m-> 1599\u001b[0;31m             \u001b[0mtmp_batch_outputs\u001b[0m \u001b[0;34m=\u001b[0m \u001b[0mpredict_function\u001b[0m\u001b[0;34m(\u001b[0m\u001b[0miterator\u001b[0m\u001b[0;34m)\u001b[0m\u001b[0;34m\u001b[0m\u001b[0;34m\u001b[0m\u001b[0m\n\u001b[0m\u001b[1;32m   1600\u001b[0m             \u001b[0;32mif\u001b[0m \u001b[0mdata_handler\u001b[0m\u001b[0;34m.\u001b[0m\u001b[0mshould_sync\u001b[0m\u001b[0;34m:\u001b[0m\u001b[0;34m\u001b[0m\u001b[0;34m\u001b[0m\u001b[0m\n\u001b[1;32m   1601\u001b[0m               \u001b[0mcontext\u001b[0m\u001b[0;34m.\u001b[0m\u001b[0masync_wait\u001b[0m\u001b[0;34m(\u001b[0m\u001b[0;34m)\u001b[0m\u001b[0;34m\u001b[0m\u001b[0;34m\u001b[0m\u001b[0m\n",
            "\u001b[0;32m/usr/local/lib/python3.6/dist-packages/tensorflow/python/eager/def_function.py\u001b[0m in \u001b[0;36m__call__\u001b[0;34m(self, *args, **kwds)\u001b[0m\n\u001b[1;32m    778\u001b[0m       \u001b[0;32melse\u001b[0m\u001b[0;34m:\u001b[0m\u001b[0;34m\u001b[0m\u001b[0;34m\u001b[0m\u001b[0m\n\u001b[1;32m    779\u001b[0m         \u001b[0mcompiler\u001b[0m \u001b[0;34m=\u001b[0m \u001b[0;34m\"nonXla\"\u001b[0m\u001b[0;34m\u001b[0m\u001b[0;34m\u001b[0m\u001b[0m\n\u001b[0;32m--> 780\u001b[0;31m         \u001b[0mresult\u001b[0m \u001b[0;34m=\u001b[0m \u001b[0mself\u001b[0m\u001b[0;34m.\u001b[0m\u001b[0m_call\u001b[0m\u001b[0;34m(\u001b[0m\u001b[0;34m*\u001b[0m\u001b[0margs\u001b[0m\u001b[0;34m,\u001b[0m \u001b[0;34m**\u001b[0m\u001b[0mkwds\u001b[0m\u001b[0;34m)\u001b[0m\u001b[0;34m\u001b[0m\u001b[0;34m\u001b[0m\u001b[0m\n\u001b[0m\u001b[1;32m    781\u001b[0m \u001b[0;34m\u001b[0m\u001b[0m\n\u001b[1;32m    782\u001b[0m       \u001b[0mnew_tracing_count\u001b[0m \u001b[0;34m=\u001b[0m \u001b[0mself\u001b[0m\u001b[0;34m.\u001b[0m\u001b[0m_get_tracing_count\u001b[0m\u001b[0;34m(\u001b[0m\u001b[0;34m)\u001b[0m\u001b[0;34m\u001b[0m\u001b[0;34m\u001b[0m\u001b[0m\n",
            "\u001b[0;32m/usr/local/lib/python3.6/dist-packages/tensorflow/python/eager/def_function.py\u001b[0m in \u001b[0;36m_call\u001b[0;34m(self, *args, **kwds)\u001b[0m\n\u001b[1;32m    812\u001b[0m       \u001b[0;31m# In this case we have not created variables on the first call. So we can\u001b[0m\u001b[0;34m\u001b[0m\u001b[0;34m\u001b[0m\u001b[0;34m\u001b[0m\u001b[0m\n\u001b[1;32m    813\u001b[0m       \u001b[0;31m# run the first trace but we should fail if variables are created.\u001b[0m\u001b[0;34m\u001b[0m\u001b[0;34m\u001b[0m\u001b[0;34m\u001b[0m\u001b[0m\n\u001b[0;32m--> 814\u001b[0;31m       \u001b[0mresults\u001b[0m \u001b[0;34m=\u001b[0m \u001b[0mself\u001b[0m\u001b[0;34m.\u001b[0m\u001b[0m_stateful_fn\u001b[0m\u001b[0;34m(\u001b[0m\u001b[0;34m*\u001b[0m\u001b[0margs\u001b[0m\u001b[0;34m,\u001b[0m \u001b[0;34m**\u001b[0m\u001b[0mkwds\u001b[0m\u001b[0;34m)\u001b[0m\u001b[0;34m\u001b[0m\u001b[0;34m\u001b[0m\u001b[0m\n\u001b[0m\u001b[1;32m    815\u001b[0m       \u001b[0;32mif\u001b[0m \u001b[0mself\u001b[0m\u001b[0;34m.\u001b[0m\u001b[0m_created_variables\u001b[0m\u001b[0;34m:\u001b[0m\u001b[0;34m\u001b[0m\u001b[0;34m\u001b[0m\u001b[0m\n\u001b[1;32m    816\u001b[0m         raise ValueError(\"Creating variables on a non-first call to a function\"\n",
            "\u001b[0;32m/usr/local/lib/python3.6/dist-packages/tensorflow/python/eager/function.py\u001b[0m in \u001b[0;36m__call__\u001b[0;34m(self, *args, **kwargs)\u001b[0m\n\u001b[1;32m   2826\u001b[0m     \u001b[0;34m\"\"\"Calls a graph function specialized to the inputs.\"\"\"\u001b[0m\u001b[0;34m\u001b[0m\u001b[0;34m\u001b[0m\u001b[0m\n\u001b[1;32m   2827\u001b[0m     \u001b[0;32mwith\u001b[0m \u001b[0mself\u001b[0m\u001b[0;34m.\u001b[0m\u001b[0m_lock\u001b[0m\u001b[0;34m:\u001b[0m\u001b[0;34m\u001b[0m\u001b[0;34m\u001b[0m\u001b[0m\n\u001b[0;32m-> 2828\u001b[0;31m       \u001b[0mgraph_function\u001b[0m\u001b[0;34m,\u001b[0m \u001b[0margs\u001b[0m\u001b[0;34m,\u001b[0m \u001b[0mkwargs\u001b[0m \u001b[0;34m=\u001b[0m \u001b[0mself\u001b[0m\u001b[0;34m.\u001b[0m\u001b[0m_maybe_define_function\u001b[0m\u001b[0;34m(\u001b[0m\u001b[0margs\u001b[0m\u001b[0;34m,\u001b[0m \u001b[0mkwargs\u001b[0m\u001b[0;34m)\u001b[0m\u001b[0;34m\u001b[0m\u001b[0;34m\u001b[0m\u001b[0m\n\u001b[0m\u001b[1;32m   2829\u001b[0m     \u001b[0;32mreturn\u001b[0m \u001b[0mgraph_function\u001b[0m\u001b[0;34m.\u001b[0m\u001b[0m_filtered_call\u001b[0m\u001b[0;34m(\u001b[0m\u001b[0margs\u001b[0m\u001b[0;34m,\u001b[0m \u001b[0mkwargs\u001b[0m\u001b[0;34m)\u001b[0m  \u001b[0;31m# pylint: disable=protected-access\u001b[0m\u001b[0;34m\u001b[0m\u001b[0;34m\u001b[0m\u001b[0m\n\u001b[1;32m   2830\u001b[0m \u001b[0;34m\u001b[0m\u001b[0m\n",
            "\u001b[0;32m/usr/local/lib/python3.6/dist-packages/tensorflow/python/eager/function.py\u001b[0m in \u001b[0;36m_maybe_define_function\u001b[0;34m(self, args, kwargs)\u001b[0m\n\u001b[1;32m   3208\u001b[0m           \u001b[0;32mand\u001b[0m \u001b[0mself\u001b[0m\u001b[0;34m.\u001b[0m\u001b[0minput_signature\u001b[0m \u001b[0;32mis\u001b[0m \u001b[0;32mNone\u001b[0m\u001b[0;34m\u001b[0m\u001b[0;34m\u001b[0m\u001b[0m\n\u001b[1;32m   3209\u001b[0m           and call_context_key in self._function_cache.missed):\n\u001b[0;32m-> 3210\u001b[0;31m         \u001b[0;32mreturn\u001b[0m \u001b[0mself\u001b[0m\u001b[0;34m.\u001b[0m\u001b[0m_define_function_with_shape_relaxation\u001b[0m\u001b[0;34m(\u001b[0m\u001b[0margs\u001b[0m\u001b[0;34m,\u001b[0m \u001b[0mkwargs\u001b[0m\u001b[0;34m)\u001b[0m\u001b[0;34m\u001b[0m\u001b[0;34m\u001b[0m\u001b[0m\n\u001b[0m\u001b[1;32m   3211\u001b[0m \u001b[0;34m\u001b[0m\u001b[0m\n\u001b[1;32m   3212\u001b[0m       \u001b[0mself\u001b[0m\u001b[0;34m.\u001b[0m\u001b[0m_function_cache\u001b[0m\u001b[0;34m.\u001b[0m\u001b[0mmissed\u001b[0m\u001b[0;34m.\u001b[0m\u001b[0madd\u001b[0m\u001b[0;34m(\u001b[0m\u001b[0mcall_context_key\u001b[0m\u001b[0;34m)\u001b[0m\u001b[0;34m\u001b[0m\u001b[0;34m\u001b[0m\u001b[0m\n",
            "\u001b[0;32m/usr/local/lib/python3.6/dist-packages/tensorflow/python/eager/function.py\u001b[0m in \u001b[0;36m_define_function_with_shape_relaxation\u001b[0;34m(self, args, kwargs)\u001b[0m\n\u001b[1;32m   3140\u001b[0m \u001b[0;34m\u001b[0m\u001b[0m\n\u001b[1;32m   3141\u001b[0m     graph_function = self._create_graph_function(\n\u001b[0;32m-> 3142\u001b[0;31m         args, kwargs, override_flat_arg_shapes=relaxed_arg_shapes)\n\u001b[0m\u001b[1;32m   3143\u001b[0m     \u001b[0mself\u001b[0m\u001b[0;34m.\u001b[0m\u001b[0m_function_cache\u001b[0m\u001b[0;34m.\u001b[0m\u001b[0marg_relaxed\u001b[0m\u001b[0;34m[\u001b[0m\u001b[0mrank_only_cache_key\u001b[0m\u001b[0;34m]\u001b[0m \u001b[0;34m=\u001b[0m \u001b[0mgraph_function\u001b[0m\u001b[0;34m\u001b[0m\u001b[0;34m\u001b[0m\u001b[0m\n\u001b[1;32m   3144\u001b[0m \u001b[0;34m\u001b[0m\u001b[0m\n",
            "\u001b[0;32m/usr/local/lib/python3.6/dist-packages/tensorflow/python/eager/function.py\u001b[0m in \u001b[0;36m_create_graph_function\u001b[0;34m(self, args, kwargs, override_flat_arg_shapes)\u001b[0m\n\u001b[1;32m   3073\u001b[0m             \u001b[0marg_names\u001b[0m\u001b[0;34m=\u001b[0m\u001b[0marg_names\u001b[0m\u001b[0;34m,\u001b[0m\u001b[0;34m\u001b[0m\u001b[0;34m\u001b[0m\u001b[0m\n\u001b[1;32m   3074\u001b[0m             \u001b[0moverride_flat_arg_shapes\u001b[0m\u001b[0;34m=\u001b[0m\u001b[0moverride_flat_arg_shapes\u001b[0m\u001b[0;34m,\u001b[0m\u001b[0;34m\u001b[0m\u001b[0;34m\u001b[0m\u001b[0m\n\u001b[0;32m-> 3075\u001b[0;31m             capture_by_value=self._capture_by_value),\n\u001b[0m\u001b[1;32m   3076\u001b[0m         \u001b[0mself\u001b[0m\u001b[0;34m.\u001b[0m\u001b[0m_function_attributes\u001b[0m\u001b[0;34m,\u001b[0m\u001b[0;34m\u001b[0m\u001b[0;34m\u001b[0m\u001b[0m\n\u001b[1;32m   3077\u001b[0m         \u001b[0mfunction_spec\u001b[0m\u001b[0;34m=\u001b[0m\u001b[0mself\u001b[0m\u001b[0;34m.\u001b[0m\u001b[0mfunction_spec\u001b[0m\u001b[0;34m,\u001b[0m\u001b[0;34m\u001b[0m\u001b[0;34m\u001b[0m\u001b[0m\n",
            "\u001b[0;32m/usr/local/lib/python3.6/dist-packages/tensorflow/python/framework/func_graph.py\u001b[0m in \u001b[0;36mfunc_graph_from_py_func\u001b[0;34m(name, python_func, args, kwargs, signature, func_graph, autograph, autograph_options, add_control_dependencies, arg_names, op_return_value, collections, capture_by_value, override_flat_arg_shapes)\u001b[0m\n\u001b[1;32m    984\u001b[0m         \u001b[0m_\u001b[0m\u001b[0;34m,\u001b[0m \u001b[0moriginal_func\u001b[0m \u001b[0;34m=\u001b[0m \u001b[0mtf_decorator\u001b[0m\u001b[0;34m.\u001b[0m\u001b[0munwrap\u001b[0m\u001b[0;34m(\u001b[0m\u001b[0mpython_func\u001b[0m\u001b[0;34m)\u001b[0m\u001b[0;34m\u001b[0m\u001b[0;34m\u001b[0m\u001b[0m\n\u001b[1;32m    985\u001b[0m \u001b[0;34m\u001b[0m\u001b[0m\n\u001b[0;32m--> 986\u001b[0;31m       \u001b[0mfunc_outputs\u001b[0m \u001b[0;34m=\u001b[0m \u001b[0mpython_func\u001b[0m\u001b[0;34m(\u001b[0m\u001b[0;34m*\u001b[0m\u001b[0mfunc_args\u001b[0m\u001b[0;34m,\u001b[0m \u001b[0;34m**\u001b[0m\u001b[0mfunc_kwargs\u001b[0m\u001b[0;34m)\u001b[0m\u001b[0;34m\u001b[0m\u001b[0;34m\u001b[0m\u001b[0m\n\u001b[0m\u001b[1;32m    987\u001b[0m \u001b[0;34m\u001b[0m\u001b[0m\n\u001b[1;32m    988\u001b[0m       \u001b[0;31m# invariant: `func_outputs` contains only Tensors, CompositeTensors,\u001b[0m\u001b[0;34m\u001b[0m\u001b[0;34m\u001b[0m\u001b[0;34m\u001b[0m\u001b[0m\n",
            "\u001b[0;32m/usr/local/lib/python3.6/dist-packages/tensorflow/python/eager/def_function.py\u001b[0m in \u001b[0;36mwrapped_fn\u001b[0;34m(*args, **kwds)\u001b[0m\n\u001b[1;32m    598\u001b[0m         \u001b[0;31m# __wrapped__ allows AutoGraph to swap in a converted function. We give\u001b[0m\u001b[0;34m\u001b[0m\u001b[0;34m\u001b[0m\u001b[0;34m\u001b[0m\u001b[0m\n\u001b[1;32m    599\u001b[0m         \u001b[0;31m# the function a weak reference to itself to avoid a reference cycle.\u001b[0m\u001b[0;34m\u001b[0m\u001b[0;34m\u001b[0m\u001b[0;34m\u001b[0m\u001b[0m\n\u001b[0;32m--> 600\u001b[0;31m         \u001b[0;32mreturn\u001b[0m \u001b[0mweak_wrapped_fn\u001b[0m\u001b[0;34m(\u001b[0m\u001b[0;34m)\u001b[0m\u001b[0;34m.\u001b[0m\u001b[0m__wrapped__\u001b[0m\u001b[0;34m(\u001b[0m\u001b[0;34m*\u001b[0m\u001b[0margs\u001b[0m\u001b[0;34m,\u001b[0m \u001b[0;34m**\u001b[0m\u001b[0mkwds\u001b[0m\u001b[0;34m)\u001b[0m\u001b[0;34m\u001b[0m\u001b[0;34m\u001b[0m\u001b[0m\n\u001b[0m\u001b[1;32m    601\u001b[0m     \u001b[0mweak_wrapped_fn\u001b[0m \u001b[0;34m=\u001b[0m \u001b[0mweakref\u001b[0m\u001b[0;34m.\u001b[0m\u001b[0mref\u001b[0m\u001b[0;34m(\u001b[0m\u001b[0mwrapped_fn\u001b[0m\u001b[0;34m)\u001b[0m\u001b[0;34m\u001b[0m\u001b[0;34m\u001b[0m\u001b[0m\n\u001b[1;32m    602\u001b[0m \u001b[0;34m\u001b[0m\u001b[0m\n",
            "\u001b[0;32m/usr/local/lib/python3.6/dist-packages/tensorflow/python/framework/func_graph.py\u001b[0m in \u001b[0;36mwrapper\u001b[0;34m(*args, **kwargs)\u001b[0m\n\u001b[1;32m    971\u001b[0m           \u001b[0;32mexcept\u001b[0m \u001b[0mException\u001b[0m \u001b[0;32mas\u001b[0m \u001b[0me\u001b[0m\u001b[0;34m:\u001b[0m  \u001b[0;31m# pylint:disable=broad-except\u001b[0m\u001b[0;34m\u001b[0m\u001b[0;34m\u001b[0m\u001b[0m\n\u001b[1;32m    972\u001b[0m             \u001b[0;32mif\u001b[0m \u001b[0mhasattr\u001b[0m\u001b[0;34m(\u001b[0m\u001b[0me\u001b[0m\u001b[0;34m,\u001b[0m \u001b[0;34m\"ag_error_metadata\"\u001b[0m\u001b[0;34m)\u001b[0m\u001b[0;34m:\u001b[0m\u001b[0;34m\u001b[0m\u001b[0;34m\u001b[0m\u001b[0m\n\u001b[0;32m--> 973\u001b[0;31m               \u001b[0;32mraise\u001b[0m \u001b[0me\u001b[0m\u001b[0;34m.\u001b[0m\u001b[0mag_error_metadata\u001b[0m\u001b[0;34m.\u001b[0m\u001b[0mto_exception\u001b[0m\u001b[0;34m(\u001b[0m\u001b[0me\u001b[0m\u001b[0;34m)\u001b[0m\u001b[0;34m\u001b[0m\u001b[0;34m\u001b[0m\u001b[0m\n\u001b[0m\u001b[1;32m    974\u001b[0m             \u001b[0;32melse\u001b[0m\u001b[0;34m:\u001b[0m\u001b[0;34m\u001b[0m\u001b[0;34m\u001b[0m\u001b[0m\n\u001b[1;32m    975\u001b[0m               \u001b[0;32mraise\u001b[0m\u001b[0;34m\u001b[0m\u001b[0;34m\u001b[0m\u001b[0m\n",
            "\u001b[0;31mValueError\u001b[0m: in user code:\n\n    /usr/local/lib/python3.6/dist-packages/tensorflow/python/keras/engine/training.py:1462 predict_function  *\n        return step_function(self, iterator)\n    /usr/local/lib/python3.6/dist-packages/tensorflow/python/keras/engine/training.py:1452 step_function  **\n        outputs = model.distribute_strategy.run(run_step, args=(data,))\n    /usr/local/lib/python3.6/dist-packages/tensorflow/python/distribute/distribute_lib.py:1211 run\n        return self._extended.call_for_each_replica(fn, args=args, kwargs=kwargs)\n    /usr/local/lib/python3.6/dist-packages/tensorflow/python/distribute/distribute_lib.py:2585 call_for_each_replica\n        return self._call_for_each_replica(fn, args, kwargs)\n    /usr/local/lib/python3.6/dist-packages/tensorflow/python/distribute/distribute_lib.py:2945 _call_for_each_replica\n        return fn(*args, **kwargs)\n    /usr/local/lib/python3.6/dist-packages/tensorflow/python/keras/engine/training.py:1445 run_step  **\n        outputs = model.predict_step(data)\n    /usr/local/lib/python3.6/dist-packages/tensorflow/python/keras/engine/training.py:1418 predict_step\n        return self(x, training=False)\n    /usr/local/lib/python3.6/dist-packages/tensorflow/python/keras/engine/base_layer.py:976 __call__\n        self.name)\n    /usr/local/lib/python3.6/dist-packages/tensorflow/python/keras/engine/input_spec.py:196 assert_input_compatibility\n        str(x.shape.as_list()))\n\n    ValueError: Input 0 of layer sequential is incompatible with the layer: : expected min_ndim=4, found ndim=3. Full shape received: [None, 28, 1]\n"
          ]
        }
      ]
    },
    {
      "cell_type": "code",
      "metadata": {
        "id": "DAzi9Vn7uASJ"
      },
      "source": [
        "output"
      ],
      "execution_count": null,
      "outputs": []
    }
  ]
}