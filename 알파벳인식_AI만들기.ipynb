{
  "nbformat": 4,
  "nbformat_minor": 0,
  "metadata": {
    "colab": {
      "name": "알파벳인식 AI만들기",
      "provenance": [],
      "collapsed_sections": [],
      "include_colab_link": true
    },
    "kernelspec": {
      "name": "python3",
      "display_name": "Python 3"
    },
    "accelerator": "GPU"
  },
  "cells": [
    {
      "cell_type": "markdown",
      "metadata": {
        "id": "view-in-github",
        "colab_type": "text"
      },
      "source": [
        "<a href=\"https://colab.research.google.com/github/jskim16/MLproj/blob/main/%EC%95%8C%ED%8C%8C%EB%B2%B3%EC%9D%B8%EC%8B%9D_AI%EB%A7%8C%EB%93%A4%EA%B8%B0.ipynb\" target=\"_parent\"><img src=\"https://colab.research.google.com/assets/colab-badge.svg\" alt=\"Open In Colab\"/></a>"
      ]
    },
    {
      "cell_type": "code",
      "metadata": {
        "id": "8qQarQcOFv06",
        "colab": {
          "base_uri": "https://localhost:8080/"
        },
        "outputId": "260655ee-f113-4664-ff0a-f95d0b3ecc8d"
      },
      "source": [
        "from google.colab import drive\n",
        "drive.mount('/content/drive')"
      ],
      "execution_count": 15,
      "outputs": [
        {
          "output_type": "stream",
          "text": [
            "Drive already mounted at /content/drive; to attempt to forcibly remount, call drive.mount(\"/content/drive\", force_remount=True).\n"
          ],
          "name": "stdout"
        }
      ]
    },
    {
      "cell_type": "code",
      "metadata": {
        "id": "pa5G1pKcV8de"
      },
      "source": [
        "from PIL import Image\n",
        "\n",
        "import matplotlib.pyplot as plt\n",
        "%matplotlib inline"
      ],
      "execution_count": 16,
      "outputs": []
    },
    {
      "cell_type": "code",
      "metadata": {
        "id": "UD5XXNf_XC8h"
      },
      "source": [
        "import tensorflow as tf\n",
        "import pandas as pd\n",
        "import numpy as np\n",
        "from keras.models import Sequential\n",
        "from keras.layers import Dense\n",
        "from keras.layers import Dropout\n",
        "from keras.layers import Flatten\n",
        "from keras.layers.convolutional import Conv2D\n",
        "from keras.layers.convolutional import MaxPooling2D\n",
        "from keras import backend as K\n",
        "from keras.utils import np_utils\n",
        "from sklearn.model_selection import train_test_split\n",
        "from sklearn.metrics import confusion_matrix\n",
        "from sklearn.preprocessing import MinMaxScaler\n",
        "from sklearn.model_selection import train_test_split\n",
        "from google.colab import drive"
      ],
      "execution_count": 17,
      "outputs": []
    },
    {
      "cell_type": "code",
      "metadata": {
        "id": "D4X_V03dSYbD"
      },
      "source": [
        "dataset = pd.read_csv('/content/drive/MyDrive/Colab Notebooks/A_Z Handwritten Data.csv').astype('float32')\n",
        "dataset.rename(columns={'0':'label'}, inplace=True)\n",
        "\n",
        "x = dataset.drop('label', axis = 1)\n",
        "y = dataset['label']\n",
        "\n",
        "train_images, test_images, train_labels, test_labels = train_test_split(x, y)"
      ],
      "execution_count": 18,
      "outputs": []
    },
    {
      "cell_type": "code",
      "metadata": {
        "id": "yxTwMBcmYTv7"
      },
      "source": [
        "minMaxScaler = MinMaxScaler()\n",
        "minMaxScaler.fit(train_images)\n",
        "\n",
        "train_images = minMaxScaler.transform(train_images)\n",
        "test_images = minMaxScaler.transform(test_images)\n",
        "\n",
        "train_images = train_images.reshape(train_images.shape[0], 28, 28, 1).astype('float32')\n",
        "test_images = test_images.reshape(test_images.shape[0], 28, 28, 1).astype('float32')\n",
        "\n",
        "train_labels = np_utils.to_categorical(train_labels)\n",
        "test_labels = np_utils.to_categorical(test_labels)"
      ],
      "execution_count": 19,
      "outputs": []
    },
    {
      "cell_type": "code",
      "metadata": {
        "id": "2NqUaTIAbpzO"
      },
      "source": [
        "from keras import models\n",
        "from keras import layers"
      ],
      "execution_count": 21,
      "outputs": []
    },
    {
      "cell_type": "code",
      "metadata": {
        "id": "iB6iHa6PI3sx"
      },
      "source": [
        "model = Sequential()\n",
        "model.add(Conv2D(32, (5, 5), input_shape=(28, 28, 1), activation='relu'))\n",
        "model.add(MaxPooling2D(pool_size=(2, 2)))\n",
        "model.add(Conv2D(48, (5, 5), input_shape=(28, 28, 1), activation='relu'))\n",
        "model.add(MaxPooling2D(pool_size=(2, 2)))\n",
        "model.add(Flatten())\n",
        "model.add(Dense(128, activation='relu'))\n",
        "model.add(Dense(26, activation='softmax'))\n",
        "\n",
        "model.compile(loss='categorical_crossentropy', optimizer='adam', metrics=['accuracy'])"
      ],
      "execution_count": 22,
      "outputs": []
    },
    {
      "cell_type": "code",
      "metadata": {
        "id": "WIuICNEEkn5P"
      },
      "source": [
        "model.compile(optimizer = 'rmsprop',\n",
        "              loss = 'categorical_crossentropy',\n",
        "              metrics = ['accuracy'])"
      ],
      "execution_count": 23,
      "outputs": []
    },
    {
      "cell_type": "code",
      "metadata": {
        "colab": {
          "base_uri": "https://localhost:8080/"
        },
        "id": "CeqeAwGxngLg",
        "outputId": "31b4d6c6-adde-490c-92d3-cc327e84ba1e"
      },
      "source": [
        "history = model.fit(train_images, train_labels, validation_data=(test_images, test_labels), epochs=20, batch_size=2048)"
      ],
      "execution_count": 45,
      "outputs": [
        {
          "output_type": "stream",
          "text": [
            "Epoch 1/20\n",
            "137/137 [==============================] - 9s 63ms/step - loss: 0.0431 - accuracy: 0.9878 - val_loss: 0.0527 - val_accuracy: 0.9853\n",
            "Epoch 2/20\n",
            "137/137 [==============================] - 8s 59ms/step - loss: 0.0371 - accuracy: 0.9894 - val_loss: 0.0609 - val_accuracy: 0.9835\n",
            "Epoch 3/20\n",
            "137/137 [==============================] - 8s 59ms/step - loss: 0.0320 - accuracy: 0.9905 - val_loss: 0.0586 - val_accuracy: 0.9838\n",
            "Epoch 4/20\n",
            "137/137 [==============================] - 8s 60ms/step - loss: 0.0281 - accuracy: 0.9917 - val_loss: 0.0480 - val_accuracy: 0.9865\n",
            "Epoch 5/20\n",
            "137/137 [==============================] - 8s 59ms/step - loss: 0.0240 - accuracy: 0.9928 - val_loss: 0.0480 - val_accuracy: 0.9866\n",
            "Epoch 6/20\n",
            "137/137 [==============================] - 8s 58ms/step - loss: 0.0208 - accuracy: 0.9939 - val_loss: 0.0481 - val_accuracy: 0.9873\n",
            "Epoch 7/20\n",
            "137/137 [==============================] - 8s 59ms/step - loss: 0.0182 - accuracy: 0.9946 - val_loss: 0.0365 - val_accuracy: 0.9907\n",
            "Epoch 8/20\n",
            "137/137 [==============================] - 8s 59ms/step - loss: 0.0156 - accuracy: 0.9953 - val_loss: 0.0438 - val_accuracy: 0.9888\n",
            "Epoch 9/20\n",
            "137/137 [==============================] - 8s 60ms/step - loss: 0.0139 - accuracy: 0.9958 - val_loss: 0.0423 - val_accuracy: 0.9900\n",
            "Epoch 10/20\n",
            "137/137 [==============================] - 8s 59ms/step - loss: 0.0120 - accuracy: 0.9963 - val_loss: 0.0382 - val_accuracy: 0.9909\n",
            "Epoch 11/20\n",
            "137/137 [==============================] - 8s 60ms/step - loss: 0.0106 - accuracy: 0.9968 - val_loss: 0.0296 - val_accuracy: 0.9933\n",
            "Epoch 12/20\n",
            "137/137 [==============================] - 8s 60ms/step - loss: 0.0095 - accuracy: 0.9971 - val_loss: 0.0412 - val_accuracy: 0.9899\n",
            "Epoch 13/20\n",
            "137/137 [==============================] - 8s 59ms/step - loss: 0.0082 - accuracy: 0.9975 - val_loss: 0.0358 - val_accuracy: 0.9920\n",
            "Epoch 14/20\n",
            "137/137 [==============================] - 8s 60ms/step - loss: 0.0074 - accuracy: 0.9977 - val_loss: 0.0547 - val_accuracy: 0.9869\n",
            "Epoch 15/20\n",
            "137/137 [==============================] - 8s 60ms/step - loss: 0.0066 - accuracy: 0.9980 - val_loss: 0.0301 - val_accuracy: 0.9941\n",
            "Epoch 16/20\n",
            "137/137 [==============================] - 8s 60ms/step - loss: 0.0059 - accuracy: 0.9982 - val_loss: 0.0340 - val_accuracy: 0.9936\n",
            "Epoch 17/20\n",
            "137/137 [==============================] - 8s 60ms/step - loss: 0.0050 - accuracy: 0.9985 - val_loss: 0.0339 - val_accuracy: 0.9931\n",
            "Epoch 18/20\n",
            "137/137 [==============================] - 8s 61ms/step - loss: 0.0051 - accuracy: 0.9984 - val_loss: 0.0322 - val_accuracy: 0.9939\n",
            "Epoch 19/20\n",
            "137/137 [==============================] - 8s 60ms/step - loss: 0.0042 - accuracy: 0.9987 - val_loss: 0.0305 - val_accuracy: 0.9951\n",
            "Epoch 20/20\n",
            "137/137 [==============================] - 8s 59ms/step - loss: 0.0040 - accuracy: 0.9987 - val_loss: 0.0324 - val_accuracy: 0.9948\n"
          ],
          "name": "stdout"
        }
      ]
    },
    {
      "cell_type": "code",
      "metadata": {
        "colab": {
          "base_uri": "https://localhost:8080/"
        },
        "id": "NT_S0gkCosBK",
        "outputId": "b632cdc3-cd39-46fa-d0d3-97957dd6f303"
      },
      "source": [
        "test_loss, test_acc = model.evaluate(test_images, test_labels)"
      ],
      "execution_count": 25,
      "outputs": [
        {
          "output_type": "stream",
          "text": [
            "2910/2910 [==============================] - 10s 3ms/step - loss: 0.2436 - accuracy: 0.9276\n"
          ],
          "name": "stdout"
        }
      ]
    },
    {
      "cell_type": "code",
      "metadata": {
        "colab": {
          "base_uri": "https://localhost:8080/",
          "height": 265
        },
        "id": "vnkPKYIPDFH0",
        "outputId": "062d4bdf-624c-4770-9360-6d11018e8fd1"
      },
      "source": [
        "fig, ax = plt.subplots(2,1)\n",
        "ax[0].plot(history.history['loss'], color='b', label=\"Training loss\")\n",
        "ax[0].plot(history.history['val_loss'], color='r', label=\"validation loss\",axes =ax[0])\n",
        "legend = ax[0].legend(loc='best', shadow=True)\n",
        "\n",
        "ax[1].plot(history.history['accuracy'], color='b', label=\"Training accuracy\")\n",
        "ax[1].plot(history.history['val_accuracy'], color='r',label=\"Validation accuracy\")\n",
        "legend = ax[1].legend(loc='best', shadow=True)"
      ],
      "execution_count": 46,
      "outputs": [
        {
          "output_type": "display_data",
          "data": {
            "image/png": "[encoded data removed]",
            "text/plain": [
              "<Figure size 432x288 with 2 Axes>"
            ]
          },
          "metadata": {
            "tags": [],
            "needs_background": "light"
          }
        }
      ]
    },
    {
      "cell_type": "code",
      "metadata": {
        "id": "I5t6Zu3G2-wb"
      },
      "source": [
        "img = Image.open('/content/drive/MyDrive/Colab Notebooks/M.jpg')\n",
        "img = img.resize((28, 28))\n",
        "img_data = np.array(img)"
      ],
      "execution_count": 26,
      "outputs": []
    },
    {
      "cell_type": "code",
      "metadata": {
        "id": "1keV8H0l3Luz"
      },
      "source": [
        "trans_img = img_data.transpose(2, 0, 1)"
      ],
      "execution_count": 27,
      "outputs": []
    },
    {
      "cell_type": "code",
      "metadata": {
        "id": "jCrH3rAm3yne"
      },
      "source": [
        "trans_test_img = trans_img / 255.0"
      ],
      "execution_count": 28,
      "outputs": []
    },
    {
      "cell_type": "code",
      "metadata": {
        "id": "Tb7E20YMA4zF"
      },
      "source": [
        "trans_test_img = trans_test_img.reshape(3, 28, 28, 1)"
      ],
      "execution_count": 38,
      "outputs": []
    },
    {
      "cell_type": "code",
      "metadata": {
        "colab": {
          "base_uri": "https://localhost:8080/"
        },
        "id": "u4vVxw7NBLlX",
        "outputId": "4f5537b6-e22e-4478-978e-88c234583bb7"
      },
      "source": [
        "trans_test_img.shape"
      ],
      "execution_count": 39,
      "outputs": [
        {
          "output_type": "execute_result",
          "data": {
            "text/plain": [
              "(3, 28, 28, 1)"
            ]
          },
          "metadata": {
            "tags": []
          },
          "execution_count": 39
        }
      ]
    },
    {
      "cell_type": "code",
      "metadata": {
        "colab": {
          "base_uri": "https://localhost:8080/",
          "height": 283
        },
        "id": "Ts2dYwD7357L",
        "outputId": "6c03d714-db10-482e-e7b7-7fb648717694"
      },
      "source": [
        "plt.imshow(img_data)"
      ],
      "execution_count": 40,
      "outputs": [
        {
          "output_type": "execute_result",
          "data": {
            "text/plain": [
              "<matplotlib.image.AxesImage at 0x7f3d25b9bc50>"
            ]
          },
          "metadata": {
            "tags": []
          },
          "execution_count": 40
        },
        {
          "output_type": "display_data",
          "data": {
            "image/png": "[encoded data removed]",
            "text/plain": [
              "<Figure size 432x288 with 1 Axes>"
            ]
          },
          "metadata": {
            "tags": [],
            "needs_background": "light"
          }
        }
      ]
    },
    {
      "cell_type": "code",
      "metadata": {
        "id": "Ae1zRkEatqx0",
        "colab": {
          "base_uri": "https://localhost:8080/"
        },
        "outputId": "c1e2a6fe-8749-4e0f-afbe-198cb1effe4e"
      },
      "source": [
        "output = model.predict(trans_test_img)\n",
        "print(\"결과는 : \", np.argmax(output))"
      ],
      "execution_count": 47,
      "outputs": [
        {
          "output_type": "stream",
          "text": [
            "결과는 :  12\n"
          ],
          "name": "stdout"
        }
      ]
    }
  ]
}