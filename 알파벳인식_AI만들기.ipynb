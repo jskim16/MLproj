{
  "nbformat": 4,
  "nbformat_minor": 0,
  "metadata": {
    "accelerator": "GPU",
    "colab": {
      "name": "알파벳인식 AI만들기",
      "provenance": [],
      "collapsed_sections": [],
      "include_colab_link": true
    },
    "kernelspec": {
      "display_name": "Python 3",
      "name": "python3"
    }
  },
  "cells": [
    {
      "cell_type": "markdown",
      "metadata": {
        "id": "view-in-github",
        "colab_type": "text"
      },
      "source": [
        "<a href=\"https://colab.research.google.com/github/jskim16/MLproj/blob/main/%EC%95%8C%ED%8C%8C%EB%B2%B3%EC%9D%B8%EC%8B%9D_AI%EB%A7%8C%EB%93%A4%EA%B8%B0.ipynb\" target=\"_parent\"><img src=\"https://colab.research.google.com/assets/colab-badge.svg\" alt=\"Open In Colab\"/></a>"
      ]
    },
    {
      "cell_type": "code",
      "metadata": {
        "colab": {
          "base_uri": "https://localhost:8080/"
        },
        "id": "8qQarQcOFv06",
        "outputId": "00e1fc74-3163-4abe-de95-5004d3bee705"
      },
      "source": [
        "from google.colab import drive\n",
        "drive.mount('/content/drive')"
      ],
      "execution_count": 1,
      "outputs": [
        {
          "output_type": "stream",
          "text": [
            "Mounted at /content/drive\n"
          ],
          "name": "stdout"
        }
      ]
    },
    {
      "cell_type": "code",
      "metadata": {
        "id": "pa5G1pKcV8de"
      },
      "source": [
        "from PIL import Image\n",
        "\n",
        "import matplotlib.pyplot as plt\n",
        "%matplotlib inline"
      ],
      "execution_count": 2,
      "outputs": []
    },
    {
      "cell_type": "code",
      "metadata": {
        "id": "UD5XXNf_XC8h"
      },
      "source": [
        "import tensorflow as tf\n",
        "import pandas as pd\n",
        "import numpy as np\n",
        "from keras.models import Sequential\n",
        "from keras.layers import Dense\n",
        "from keras.layers import Dropout\n",
        "from keras.layers import Flatten\n",
        "from keras.layers.convolutional import Conv2D\n",
        "from keras.layers.convolutional import MaxPooling2D\n",
        "from keras import backend as K\n",
        "from keras.utils import np_utils\n",
        "from sklearn.model_selection import train_test_split\n",
        "from sklearn.metrics import confusion_matrix\n",
        "from sklearn.preprocessing import MinMaxScaler\n",
        "from sklearn.model_selection import train_test_split\n",
        "from google.colab import drive"
      ],
      "execution_count": 3,
      "outputs": []
    },
    {
      "cell_type": "code",
      "metadata": {
        "id": "D4X_V03dSYbD"
      },
      "source": [
        "dataset = pd.read_csv('/content/drive/MyDrive/Colab Notebooks/A_Z Handwritten Data.csv').astype('float32')\n",
        "dataset.rename(columns={'0':'label'}, inplace=True)\n",
        "\n",
        "x = dataset.drop('label', axis = 1)\n",
        "y = dataset['label']\n",
        "\n",
        "train_images, test_images, train_labels, test_labels = train_test_split(x, y)"
      ],
      "execution_count": 4,
      "outputs": []
    },
    {
      "cell_type": "code",
      "metadata": {
        "id": "yxTwMBcmYTv7"
      },
      "source": [
        "minMaxScaler = MinMaxScaler()\n",
        "minMaxScaler.fit(train_images)\n",
        "\n",
        "train_images = minMaxScaler.transform(train_images)\n",
        "test_images = minMaxScaler.transform(test_images)\n",
        "\n",
        "train_images = train_images.reshape(train_images.shape[0], 28, 28, 1).astype('float32')\n",
        "test_images = test_images.reshape(test_images.shape[0], 28, 28, 1).astype('float32')\n",
        "\n",
        "train_labels = np_utils.to_categorical(train_labels)\n",
        "test_labels = np_utils.to_categorical(test_labels)"
      ],
      "execution_count": 5,
      "outputs": []
    },
    {
      "cell_type": "code",
      "metadata": {
        "colab": {
          "base_uri": "https://localhost:8080/"
        },
        "id": "9X7CcOF-lxUy",
        "outputId": "47d95e9e-b549-422b-a13e-d64a65948461"
      },
      "source": [
        "train_images.shape"
      ],
      "execution_count": 63,
      "outputs": [
        {
          "output_type": "execute_result",
          "data": {
            "text/plain": [
              "(279337, 28, 28, 1)"
            ]
          },
          "metadata": {
            "tags": []
          },
          "execution_count": 63
        }
      ]
    },
    {
      "cell_type": "code",
      "metadata": {
        "id": "2NqUaTIAbpzO"
      },
      "source": [
        "from keras import models\n",
        "from keras import layers"
      ],
      "execution_count": 6,
      "outputs": []
    },
    {
      "cell_type": "code",
      "metadata": {
        "id": "iB6iHa6PI3sx"
      },
      "source": [
        "model = Sequential()\n",
        "model.add(Conv2D(32, (5, 5), input_shape=(28, 28, 1), activation='relu'))\n",
        "model.add(MaxPooling2D(pool_size=(2, 2)))\n",
        "model.add(Conv2D(48, (5, 5), input_shape=(28, 28, 1), activation='relu'))\n",
        "model.add(MaxPooling2D(pool_size=(2, 2)))\n",
        "model.add(Flatten())\n",
        "model.add(Dense(128, activation='relu'))\n",
        "model.add(Dense(26, activation='softmax'))\n",
        "\n",
        "model.compile(loss='categorical_crossentropy', optimizer='adam', metrics=['accuracy'])"
      ],
      "execution_count": 7,
      "outputs": []
    },
    {
      "cell_type": "code",
      "metadata": {
        "colab": {
          "base_uri": "https://localhost:8080/"
        },
        "id": "CeqeAwGxngLg",
        "outputId": "dd3f88dc-1864-4359-bda8-26ec561eadb8"
      },
      "source": [
        "history = model.fit(train_images, train_labels, validation_data=(test_images, test_labels), epochs=5, batch_size=256)"
      ],
      "execution_count": 44,
      "outputs": [
        {
          "output_type": "stream",
          "text": [
            "Epoch 1/100\n",
            "8730/8730 [==============================] - 35s 4ms/step - loss: 0.0142 - accuracy: 0.9982 - val_loss: 0.2142 - val_accuracy: 0.9925\n",
            "Epoch 2/100\n",
            "8730/8730 [==============================] - 36s 4ms/step - loss: 0.0200 - accuracy: 0.9973 - val_loss: 0.1953 - val_accuracy: 0.9923\n",
            "Epoch 3/100\n",
            "8730/8730 [==============================] - 35s 4ms/step - loss: 0.0213 - accuracy: 0.9971 - val_loss: 0.2110 - val_accuracy: 0.9918\n",
            "Epoch 4/100\n",
            "8730/8730 [==============================] - 34s 4ms/step - loss: 0.0229 - accuracy: 0.9970 - val_loss: 0.2335 - val_accuracy: 0.9911\n",
            "Epoch 5/100\n",
            "8730/8730 [==============================] - 35s 4ms/step - loss: 0.0245 - accuracy: 0.9970 - val_loss: 0.2081 - val_accuracy: 0.9928\n",
            "Epoch 6/100\n",
            "8730/8730 [==============================] - 34s 4ms/step - loss: 0.0233 - accuracy: 0.9971 - val_loss: 0.2035 - val_accuracy: 0.9926\n",
            "Epoch 7/100\n",
            "8730/8730 [==============================] - 36s 4ms/step - loss: 0.0216 - accuracy: 0.9973 - val_loss: 0.2392 - val_accuracy: 0.9911\n",
            "Epoch 8/100\n",
            "8730/8730 [==============================] - 34s 4ms/step - loss: 0.0238 - accuracy: 0.9971 - val_loss: 0.2430 - val_accuracy: 0.9915\n",
            "Epoch 9/100\n",
            "8730/8730 [==============================] - 34s 4ms/step - loss: 0.0237 - accuracy: 0.9972 - val_loss: 0.2539 - val_accuracy: 0.9911\n",
            "Epoch 10/100\n",
            "8730/8730 [==============================] - 34s 4ms/step - loss: 0.0203 - accuracy: 0.9975 - val_loss: 0.2400 - val_accuracy: 0.9922\n",
            "Epoch 11/100\n",
            "8730/8730 [==============================] - 35s 4ms/step - loss: 0.0234 - accuracy: 0.9974 - val_loss: 0.2547 - val_accuracy: 0.9924\n",
            "Epoch 12/100\n",
            "8730/8730 [==============================] - 34s 4ms/step - loss: 0.0221 - accuracy: 0.9977 - val_loss: 0.2651 - val_accuracy: 0.9925\n",
            "Epoch 13/100\n",
            "8730/8730 [==============================] - 35s 4ms/step - loss: 0.0232 - accuracy: 0.9975 - val_loss: 0.2533 - val_accuracy: 0.9930\n",
            "Epoch 14/100\n",
            "8730/8730 [==============================] - 35s 4ms/step - loss: 0.0248 - accuracy: 0.9975 - val_loss: 0.2597 - val_accuracy: 0.9928\n",
            "Epoch 15/100\n",
            "8730/8730 [==============================] - 34s 4ms/step - loss: 0.0223 - accuracy: 0.9977 - val_loss: 0.2593 - val_accuracy: 0.9924\n",
            "Epoch 16/100\n",
            "8730/8730 [==============================] - 34s 4ms/step - loss: 0.0199 - accuracy: 0.9979 - val_loss: 0.2796 - val_accuracy: 0.9930\n",
            "Epoch 17/100\n",
            "8730/8730 [==============================] - 35s 4ms/step - loss: 0.0202 - accuracy: 0.9979 - val_loss: 0.2870 - val_accuracy: 0.9925\n",
            "Epoch 18/100\n",
            "8730/8730 [==============================] - 34s 4ms/step - loss: 0.0216 - accuracy: 0.9980 - val_loss: 0.3098 - val_accuracy: 0.9918\n",
            "Epoch 19/100\n",
            "8730/8730 [==============================] - 35s 4ms/step - loss: 0.0208 - accuracy: 0.9979 - val_loss: 0.3218 - val_accuracy: 0.9927\n",
            "Epoch 20/100\n",
            "8730/8730 [==============================] - 37s 4ms/step - loss: 0.0228 - accuracy: 0.9980 - val_loss: 0.3303 - val_accuracy: 0.9924\n",
            "Epoch 21/100\n",
            "8730/8730 [==============================] - 37s 4ms/step - loss: 0.0234 - accuracy: 0.9980 - val_loss: 0.3357 - val_accuracy: 0.9922\n",
            "Epoch 22/100\n",
            "8730/8730 [==============================] - 36s 4ms/step - loss: 0.0211 - accuracy: 0.9980 - val_loss: 0.3287 - val_accuracy: 0.9919\n",
            "Epoch 23/100\n",
            "8730/8730 [==============================] - 36s 4ms/step - loss: 0.0194 - accuracy: 0.9982 - val_loss: 0.3751 - val_accuracy: 0.9923\n",
            "Epoch 24/100\n",
            "8730/8730 [==============================] - 36s 4ms/step - loss: 0.0197 - accuracy: 0.9983 - val_loss: 0.3437 - val_accuracy: 0.9932\n",
            "Epoch 25/100\n",
            "8730/8730 [==============================] - 35s 4ms/step - loss: 0.0162 - accuracy: 0.9985 - val_loss: 0.3556 - val_accuracy: 0.9937\n",
            "Epoch 26/100\n",
            "8730/8730 [==============================] - 37s 4ms/step - loss: 0.0176 - accuracy: 0.9984 - val_loss: 0.4007 - val_accuracy: 0.9929\n",
            "Epoch 27/100\n",
            "8730/8730 [==============================] - 36s 4ms/step - loss: 0.0190 - accuracy: 0.9984 - val_loss: 0.3611 - val_accuracy: 0.9934\n",
            "Epoch 28/100\n",
            "8730/8730 [==============================] - 37s 4ms/step - loss: 0.0188 - accuracy: 0.9985 - val_loss: 0.3509 - val_accuracy: 0.9934\n",
            "Epoch 29/100\n",
            "8730/8730 [==============================] - 37s 4ms/step - loss: 0.0169 - accuracy: 0.9985 - val_loss: 0.3600 - val_accuracy: 0.9936\n",
            "Epoch 30/100\n",
            "8730/8730 [==============================] - 36s 4ms/step - loss: 0.0188 - accuracy: 0.9984 - val_loss: 0.3478 - val_accuracy: 0.9940\n",
            "Epoch 31/100\n",
            "8730/8730 [==============================] - 35s 4ms/step - loss: 0.0180 - accuracy: 0.9986 - val_loss: 0.3955 - val_accuracy: 0.9932\n",
            "Epoch 32/100\n",
            "8730/8730 [==============================] - 35s 4ms/step - loss: 0.0175 - accuracy: 0.9985 - val_loss: 0.3926 - val_accuracy: 0.9933\n",
            "Epoch 33/100\n",
            "8730/8730 [==============================] - 35s 4ms/step - loss: 0.0194 - accuracy: 0.9985 - val_loss: 0.4108 - val_accuracy: 0.9932\n",
            "Epoch 34/100\n",
            "8730/8730 [==============================] - 35s 4ms/step - loss: 0.0209 - accuracy: 0.9984 - val_loss: 0.4069 - val_accuracy: 0.9938\n",
            "Epoch 35/100\n",
            "8730/8730 [==============================] - 35s 4ms/step - loss: 0.0196 - accuracy: 0.9986 - val_loss: 0.4764 - val_accuracy: 0.9935\n",
            "Epoch 36/100\n",
            "8730/8730 [==============================] - 35s 4ms/step - loss: 0.0213 - accuracy: 0.9986 - val_loss: 0.4781 - val_accuracy: 0.9930\n",
            "Epoch 37/100\n",
            "8730/8730 [==============================] - 37s 4ms/step - loss: 0.0204 - accuracy: 0.9985 - val_loss: 0.4489 - val_accuracy: 0.9940\n",
            "Epoch 38/100\n",
            "8730/8730 [==============================] - 35s 4ms/step - loss: 0.0208 - accuracy: 0.9986 - val_loss: 0.4676 - val_accuracy: 0.9933\n",
            "Epoch 39/100\n",
            "8730/8730 [==============================] - 37s 4ms/step - loss: 0.0170 - accuracy: 0.9989 - val_loss: 0.4764 - val_accuracy: 0.9931\n",
            "Epoch 40/100\n",
            "8730/8730 [==============================] - 36s 4ms/step - loss: 0.0181 - accuracy: 0.9987 - val_loss: 0.4730 - val_accuracy: 0.9939\n",
            "Epoch 41/100\n",
            "8730/8730 [==============================] - 36s 4ms/step - loss: 0.0189 - accuracy: 0.9987 - val_loss: 0.5049 - val_accuracy: 0.9931\n",
            "Epoch 42/100\n",
            "8730/8730 [==============================] - 36s 4ms/step - loss: 0.0187 - accuracy: 0.9987 - val_loss: 0.4930 - val_accuracy: 0.9935\n",
            "Epoch 43/100\n",
            "8730/8730 [==============================] - 36s 4ms/step - loss: 0.0209 - accuracy: 0.9986 - val_loss: 0.5054 - val_accuracy: 0.9937\n",
            "Epoch 44/100\n",
            "8730/8730 [==============================] - 36s 4ms/step - loss: 0.0202 - accuracy: 0.9987 - val_loss: 0.5060 - val_accuracy: 0.9935\n",
            "Epoch 45/100\n",
            "8730/8730 [==============================] - 37s 4ms/step - loss: 0.0195 - accuracy: 0.9988 - val_loss: 0.5701 - val_accuracy: 0.9933\n",
            "Epoch 46/100\n",
            "8730/8730 [==============================] - 38s 4ms/step - loss: 0.0191 - accuracy: 0.9988 - val_loss: 0.5407 - val_accuracy: 0.9933\n",
            "Epoch 47/100\n",
            "8730/8730 [==============================] - 36s 4ms/step - loss: 0.0193 - accuracy: 0.9988 - val_loss: 0.5444 - val_accuracy: 0.9937\n",
            "Epoch 48/100\n",
            "8730/8730 [==============================] - 37s 4ms/step - loss: 0.0176 - accuracy: 0.9990 - val_loss: 0.5278 - val_accuracy: 0.9937\n",
            "Epoch 49/100\n",
            "8730/8730 [==============================] - 37s 4ms/step - loss: 0.0230 - accuracy: 0.9986 - val_loss: 0.5600 - val_accuracy: 0.9940\n",
            "Epoch 50/100\n",
            "8730/8730 [==============================] - 38s 4ms/step - loss: 0.0204 - accuracy: 0.9988 - val_loss: 0.6276 - val_accuracy: 0.9926\n",
            "Epoch 51/100\n",
            "8730/8730 [==============================] - 36s 4ms/step - loss: 0.0179 - accuracy: 0.9990 - val_loss: 0.5448 - val_accuracy: 0.9938\n",
            "Epoch 52/100\n",
            "8730/8730 [==============================] - 36s 4ms/step - loss: 0.0166 - accuracy: 0.9989 - val_loss: 0.6432 - val_accuracy: 0.9926\n",
            "Epoch 53/100\n",
            "8730/8730 [==============================] - 37s 4ms/step - loss: 0.0189 - accuracy: 0.9989 - val_loss: 0.5967 - val_accuracy: 0.9934\n",
            "Epoch 54/100\n",
            "8730/8730 [==============================] - 37s 4ms/step - loss: 0.0184 - accuracy: 0.9990 - val_loss: 0.5831 - val_accuracy: 0.9940\n",
            "Epoch 55/100\n",
            "8730/8730 [==============================] - 36s 4ms/step - loss: 0.0169 - accuracy: 0.9990 - val_loss: 0.6554 - val_accuracy: 0.9936\n",
            "Epoch 56/100\n",
            "8730/8730 [==============================] - 36s 4ms/step - loss: 0.0189 - accuracy: 0.9990 - val_loss: 0.5981 - val_accuracy: 0.9940\n",
            "Epoch 57/100\n",
            "8730/8730 [==============================] - 37s 4ms/step - loss: 0.0229 - accuracy: 0.9988 - val_loss: 0.6575 - val_accuracy: 0.9932\n",
            "Epoch 58/100\n",
            "8730/8730 [==============================] - 36s 4ms/step - loss: 0.0167 - accuracy: 0.9991 - val_loss: 0.6323 - val_accuracy: 0.9930\n",
            "Epoch 59/100\n",
            "8730/8730 [==============================] - 37s 4ms/step - loss: 0.0175 - accuracy: 0.9990 - val_loss: 0.6221 - val_accuracy: 0.9937\n",
            "Epoch 60/100\n",
            "8730/8730 [==============================] - 37s 4ms/step - loss: 0.0162 - accuracy: 0.9992 - val_loss: 0.6756 - val_accuracy: 0.9930\n",
            "Epoch 61/100\n",
            "8730/8730 [==============================] - 37s 4ms/step - loss: 0.0193 - accuracy: 0.9990 - val_loss: 0.6798 - val_accuracy: 0.9932\n",
            "Epoch 62/100\n",
            "8730/8730 [==============================] - 36s 4ms/step - loss: 0.0190 - accuracy: 0.9990 - val_loss: 0.6661 - val_accuracy: 0.9938\n",
            "Epoch 63/100\n",
            "8730/8730 [==============================] - 38s 4ms/step - loss: 0.0168 - accuracy: 0.9992 - val_loss: 0.6321 - val_accuracy: 0.9937\n",
            "Epoch 64/100\n",
            "8730/8730 [==============================] - 38s 4ms/step - loss: 0.0157 - accuracy: 0.9991 - val_loss: 0.5954 - val_accuracy: 0.9945\n",
            "Epoch 65/100\n",
            "8730/8730 [==============================] - 37s 4ms/step - loss: 0.0171 - accuracy: 0.9990 - val_loss: 0.6966 - val_accuracy: 0.9931\n",
            "Epoch 66/100\n",
            "8730/8730 [==============================] - 37s 4ms/step - loss: 0.0178 - accuracy: 0.9991 - val_loss: 0.6836 - val_accuracy: 0.9937\n",
            "Epoch 67/100\n",
            "8730/8730 [==============================] - 38s 4ms/step - loss: 0.0175 - accuracy: 0.9991 - val_loss: 0.6737 - val_accuracy: 0.9940\n",
            "Epoch 68/100\n",
            "8730/8730 [==============================] - 37s 4ms/step - loss: 0.0193 - accuracy: 0.9991 - val_loss: 0.6682 - val_accuracy: 0.9938\n",
            "Epoch 69/100\n",
            "8730/8730 [==============================] - 38s 4ms/step - loss: 0.0139 - accuracy: 0.9992 - val_loss: 0.7547 - val_accuracy: 0.9936\n",
            "Epoch 70/100\n",
            "8730/8730 [==============================] - 38s 4ms/step - loss: 0.0197 - accuracy: 0.9990 - val_loss: 0.8088 - val_accuracy: 0.9930\n",
            "Epoch 71/100\n",
            "8730/8730 [==============================] - 39s 4ms/step - loss: 0.0176 - accuracy: 0.9991 - val_loss: 0.7367 - val_accuracy: 0.9944\n",
            "Epoch 72/100\n",
            "8730/8730 [==============================] - 37s 4ms/step - loss: 0.0169 - accuracy: 0.9992 - val_loss: 0.7338 - val_accuracy: 0.9935\n",
            "Epoch 73/100\n",
            "8730/8730 [==============================] - 39s 4ms/step - loss: 0.0140 - accuracy: 0.9993 - val_loss: 0.7740 - val_accuracy: 0.9942\n",
            "Epoch 74/100\n",
            "8730/8730 [==============================] - 37s 4ms/step - loss: 0.0147 - accuracy: 0.9993 - val_loss: 0.8042 - val_accuracy: 0.9941\n",
            "Epoch 75/100\n",
            "8730/8730 [==============================] - 37s 4ms/step - loss: 0.0154 - accuracy: 0.9993 - val_loss: 0.8061 - val_accuracy: 0.9940\n",
            "Epoch 76/100\n",
            "8730/8730 [==============================] - 38s 4ms/step - loss: 0.0111 - accuracy: 0.9994 - val_loss: 0.7990 - val_accuracy: 0.9943\n",
            "Epoch 77/100\n",
            "8730/8730 [==============================] - 38s 4ms/step - loss: 0.0156 - accuracy: 0.9992 - val_loss: 0.7572 - val_accuracy: 0.9942\n",
            "Epoch 78/100\n",
            "8730/8730 [==============================] - 37s 4ms/step - loss: 0.0135 - accuracy: 0.9992 - val_loss: 0.7858 - val_accuracy: 0.9941\n",
            "Epoch 79/100\n",
            "8730/8730 [==============================] - 38s 4ms/step - loss: 0.0160 - accuracy: 0.9993 - val_loss: 0.8270 - val_accuracy: 0.9938\n",
            "Epoch 80/100\n",
            "8730/8730 [==============================] - 37s 4ms/step - loss: 0.0153 - accuracy: 0.9993 - val_loss: 0.8609 - val_accuracy: 0.9937\n",
            "Epoch 81/100\n",
            "8730/8730 [==============================] - 37s 4ms/step - loss: 0.0132 - accuracy: 0.9994 - val_loss: 0.8022 - val_accuracy: 0.9939\n",
            "Epoch 82/100\n",
            "8730/8730 [==============================] - 36s 4ms/step - loss: 0.0148 - accuracy: 0.9992 - val_loss: 0.9122 - val_accuracy: 0.9941\n",
            "Epoch 83/100\n",
            "8730/8730 [==============================] - 38s 4ms/step - loss: 0.0155 - accuracy: 0.9992 - val_loss: 0.8722 - val_accuracy: 0.9941\n",
            "Epoch 84/100\n",
            "8730/8730 [==============================] - 37s 4ms/step - loss: 0.0197 - accuracy: 0.9992 - val_loss: 0.8748 - val_accuracy: 0.9941\n",
            "Epoch 85/100\n",
            "8730/8730 [==============================] - 37s 4ms/step - loss: 0.0166 - accuracy: 0.9993 - val_loss: 0.8908 - val_accuracy: 0.9942\n",
            "Epoch 86/100\n",
            "8730/8730 [==============================] - 37s 4ms/step - loss: 0.0173 - accuracy: 0.9992 - val_loss: 0.8903 - val_accuracy: 0.9940\n",
            "Epoch 87/100\n",
            "8730/8730 [==============================] - 38s 4ms/step - loss: 0.0145 - accuracy: 0.9993 - val_loss: 0.9813 - val_accuracy: 0.9936\n",
            "Epoch 88/100\n",
            "8730/8730 [==============================] - 38s 4ms/step - loss: 0.0153 - accuracy: 0.9994 - val_loss: 1.0289 - val_accuracy: 0.9939\n",
            "Epoch 89/100\n",
            "8730/8730 [==============================] - 36s 4ms/step - loss: 0.0164 - accuracy: 0.9994 - val_loss: 0.9924 - val_accuracy: 0.9941\n",
            "Epoch 90/100\n",
            "8730/8730 [==============================] - 37s 4ms/step - loss: 0.0167 - accuracy: 0.9993 - val_loss: 0.9967 - val_accuracy: 0.9942\n",
            "Epoch 91/100\n",
            "8730/8730 [==============================] - 38s 4ms/step - loss: 0.0123 - accuracy: 0.9995 - val_loss: 0.9462 - val_accuracy: 0.9943\n",
            "Epoch 92/100\n",
            "8730/8730 [==============================] - 37s 4ms/step - loss: 0.0113 - accuracy: 0.9995 - val_loss: 0.9763 - val_accuracy: 0.9938\n",
            "Epoch 93/100\n",
            "8730/8730 [==============================] - 37s 4ms/step - loss: 0.0122 - accuracy: 0.9995 - val_loss: 0.9019 - val_accuracy: 0.9946\n",
            "Epoch 94/100\n",
            "8730/8730 [==============================] - 37s 4ms/step - loss: 0.0110 - accuracy: 0.9995 - val_loss: 0.9959 - val_accuracy: 0.9943\n",
            "Epoch 95/100\n",
            "8730/8730 [==============================] - 38s 4ms/step - loss: 0.0129 - accuracy: 0.9995 - val_loss: 1.0230 - val_accuracy: 0.9943\n",
            "Epoch 96/100\n",
            "8730/8730 [==============================] - 38s 4ms/step - loss: 0.0153 - accuracy: 0.9994 - val_loss: 0.9917 - val_accuracy: 0.9937\n",
            "Epoch 97/100\n",
            "8730/8730 [==============================] - 36s 4ms/step - loss: 0.0135 - accuracy: 0.9995 - val_loss: 1.0575 - val_accuracy: 0.9939\n",
            "Epoch 98/100\n",
            "8730/8730 [==============================] - 37s 4ms/step - loss: 0.0153 - accuracy: 0.9994 - val_loss: 1.0862 - val_accuracy: 0.9938\n",
            "Epoch 99/100\n",
            "8730/8730 [==============================] - 37s 4ms/step - loss: 0.0162 - accuracy: 0.9994 - val_loss: 1.1325 - val_accuracy: 0.9927\n",
            "Epoch 100/100\n",
            "8730/8730 [==============================] - 37s 4ms/step - loss: 0.0132 - accuracy: 0.9994 - val_loss: 0.9575 - val_accuracy: 0.9943\n"
          ],
          "name": "stdout"
        }
      ]
    },
    {
      "cell_type": "code",
      "metadata": {
        "id": "NT_S0gkCosBK",
        "colab": {
          "base_uri": "https://localhost:8080/"
        },
        "outputId": "830561f0-1e70-458c-fc85-91a4d95f7d2b"
      },
      "source": [
        "test_loss, test_acc = model.evaluate(test_images, test_labels)"
      ],
      "execution_count": 45,
      "outputs": [
        {
          "output_type": "stream",
          "text": [
            "2910/2910 [==============================] - 7s 2ms/step - loss: 0.9575 - accuracy: 0.9943\n"
          ],
          "name": "stdout"
        }
      ]
    },
    {
      "cell_type": "code",
      "metadata": {
        "id": "vnkPKYIPDFH0",
        "colab": {
          "base_uri": "https://localhost:8080/",
          "height": 265
        },
        "outputId": "fbad7b66-3f9e-44fd-c128-449a7260b84e"
      },
      "source": [
        "fig, ax = plt.subplots(2,1)\n",
        "ax[0].plot(history.history['loss'], color='b', label=\"Training loss\")\n",
        "ax[0].plot(history.history['val_loss'], color='r', label=\"validation loss\",axes =ax[0])\n",
        "legend = ax[0].legend(loc='best', shadow=True)\n",
        "\n",
        "ax[1].plot(history.history['accuracy'], color='b', label=\"Training accuracy\")\n",
        "ax[1].plot(history.history['val_accuracy'], color='r',label=\"Validation accuracy\")\n",
        "legend = ax[1].legend(loc='best', shadow=True)"
      ],
      "execution_count": 46,
      "outputs": [
        {
          "output_type": "display_data",
          "data": {
            "image/png": "[encoded data removed]",
            "text/plain": [
              "<Figure size 432x288 with 2 Axes>"
            ]
          },
          "metadata": {
            "tags": [],
            "needs_background": "light"
          }
        }
      ]
    },
    {
      "cell_type": "code",
      "metadata": {
        "id": "I5t6Zu3G2-wb"
      },
      "source": [
        "img = Image.open('/content/drive/MyDrive/Colab Notebooks/X.jpg')\n",
        "img = img.resize((28, 28))\n",
        "img_data = np.array(img)"
      ],
      "execution_count": 64,
      "outputs": []
    },
    {
      "cell_type": "code",
      "metadata": {
        "id": "Ts2dYwD7357L",
        "colab": {
          "base_uri": "https://localhost:8080/",
          "height": 283
        },
        "outputId": "30d2e4e6-5f78-43bf-f1d1-25fe75eaaf04"
      },
      "source": [
        "plt.imshow(img_data)"
      ],
      "execution_count": 65,
      "outputs": [
        {
          "output_type": "execute_result",
          "data": {
            "text/plain": [
              "<matplotlib.image.AxesImage at 0x7fc77e13df60>"
            ]
          },
          "metadata": {
            "tags": []
          },
          "execution_count": 65
        },
        {
          "output_type": "display_data",
          "data": {
            "image/png": "[encoded data removed]",
            "text/plain": [
              "<Figure size 432x288 with 1 Axes>"
            ]
          },
          "metadata": {
            "tags": [],
            "needs_background": "light"
          }
        }
      ]
    },
    {
      "cell_type": "code",
      "metadata": {
        "id": "1keV8H0l3Luz"
      },
      "source": [
        "trans_img = img_data.transpose(2, 0, 1)"
      ],
      "execution_count": 66,
      "outputs": []
    },
    {
      "cell_type": "code",
      "metadata": {
        "id": "jCrH3rAm3yne"
      },
      "source": [
        "trans_test_img = 1 - trans_img[0,:] / 255.0"
      ],
      "execution_count": 67,
      "outputs": []
    },
    {
      "cell_type": "code",
      "metadata": {
        "id": "Tb7E20YMA4zF"
      },
      "source": [
        "trans_test_img = trans_test_img.reshape(1, 28, 28, 1)"
      ],
      "execution_count": 68,
      "outputs": []
    },
    {
      "cell_type": "code",
      "metadata": {
        "id": "Ae1zRkEatqx0"
      },
      "source": [
        "output = model.predict(trans_test_img)"
      ],
      "execution_count": 69,
      "outputs": []
    },
    {
      "cell_type": "code",
      "metadata": {
        "id": "xkhWXUAxH_42"
      },
      "source": [
        "al_map = {0:'A',1:'B',2:'C',3:'D',\n",
        "          4:'E',5:'F',6:'G',7:'H',\n",
        "          8:'I',9:'J',10:'K',11:'L',\n",
        "          12:'M',13:'N',14:'O',15:'P',\n",
        "          16:'Q',17:'R',18:'S',19:'T',\n",
        "          20:'U',21:'V',22:'W',23:'X',\n",
        "          24:'Y',25:'Z'}\n",
        "\n",
        "result = al_map[np.argmax(output)]"
      ],
      "execution_count": 70,
      "outputs": []
    },
    {
      "cell_type": "code",
      "metadata": {
        "id": "qEMFNYFAHxBV",
        "colab": {
          "base_uri": "https://localhost:8080/"
        },
        "outputId": "96728d93-7d08-456f-e984-c644180e8bc5"
      },
      "source": [
        "print(\"결과는 : \", result)"
      ],
      "execution_count": 71,
      "outputs": [
        {
          "output_type": "stream",
          "text": [
            "결과는 :  X\n"
          ],
          "name": "stdout"
        }
      ]
    }
  ]
}