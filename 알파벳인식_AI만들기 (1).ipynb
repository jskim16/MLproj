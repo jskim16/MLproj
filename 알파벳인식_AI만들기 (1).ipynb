{
  "nbformat": 4,
  "nbformat_minor": 0,
  "metadata": {
    "colab": {
      "name": "알파벳인식 AI만들기",
      "provenance": [],
      "collapsed_sections": []
    },
    "kernelspec": {
      "name": "python3",
      "display_name": "Python 3"
    },
    "accelerator": "GPU"
  },
  "cells": [
    {
      "cell_type": "code",
      "metadata": {
        "id": "8qQarQcOFv06",
        "colab": {
          "base_uri": "https://localhost:8080/"
        },
        "outputId": "5febc997-cb38-425f-9fad-8c04f06160d2"
      },
      "source": [
        "from google.colab import drive\n",
        "drive.mount('/content/drive')"
      ],
      "execution_count": 6,
      "outputs": [
        {
          "output_type": "stream",
          "text": [
            "Drive already mounted at /content/drive; to attempt to forcibly remount, call drive.mount(\"/content/drive\", force_remount=True).\n"
          ],
          "name": "stdout"
        }
      ]
    },
    {
      "cell_type": "code",
      "metadata": {
        "id": "pa5G1pKcV8de"
      },
      "source": [
        "from PIL import Image\n",
        "\n",
        "import matplotlib.pyplot as plt\n",
        "%matplotlib inline"
      ],
      "execution_count": 7,
      "outputs": []
    },
    {
      "cell_type": "code",
      "metadata": {
        "id": "UD5XXNf_XC8h"
      },
      "source": [
        "import tensorflow as tf\n",
        "import pandas as pd\n",
        "import numpy as np\n",
        "from keras.models import Sequential\n",
        "from keras.layers import Dense\n",
        "from keras.layers import Dropout\n",
        "from keras.layers import Flatten\n",
        "from keras.layers.convolutional import Conv2D\n",
        "from keras.layers.convolutional import MaxPooling2D\n",
        "from keras import backend as K\n",
        "from keras.utils import np_utils\n",
        "from sklearn.model_selection import train_test_split\n",
        "from sklearn.metrics import confusion_matrix\n",
        "from sklearn.preprocessing import MinMaxScaler\n",
        "from sklearn.model_selection import train_test_split\n",
        "from google.colab import drive"
      ],
      "execution_count": 8,
      "outputs": []
    },
    {
      "cell_type": "code",
      "metadata": {
        "id": "D4X_V03dSYbD"
      },
      "source": [
        "dataset = pd.read_csv('/content/drive/MyDrive/Colab Notebooks/A_Z Handwritten Data.csv').astype('float32')\n",
        "dataset.rename(columns={'0':'label'}, inplace=True)\n",
        "\n",
        "x = dataset.drop('label', axis = 1)\n",
        "y = dataset['label']\n",
        "\n",
        "train_images, test_images, train_labels, test_labels = train_test_split(x, y)"
      ],
      "execution_count": 9,
      "outputs": []
    },
    {
      "cell_type": "code",
      "metadata": {
        "id": "yxTwMBcmYTv7"
      },
      "source": [
        "minMaxScaler = MinMaxScaler()\n",
        "minMaxScaler.fit(train_images)\n",
        "\n",
        "train_images = minMaxScaler.transform(train_images)\n",
        "test_images = minMaxScaler.transform(test_images)\n",
        "\n",
        "train_images = train_images.reshape(train_images.shape[0], 28, 28, 1).astype('float32')\n",
        "test_images = test_images.reshape(test_images.shape[0], 28, 28, 1).astype('float32')\n",
        "\n",
        "train_labels = np_utils.to_categorical(train_labels)\n",
        "test_labels = np_utils.to_categorical(test_labels)"
      ],
      "execution_count": 10,
      "outputs": []
    },
    {
      "cell_type": "code",
      "metadata": {
        "id": "2NqUaTIAbpzO"
      },
      "source": [
        "from keras import models\n",
        "from keras import layers"
      ],
      "execution_count": 12,
      "outputs": []
    },
    {
      "cell_type": "code",
      "metadata": {
        "id": "iB6iHa6PI3sx"
      },
      "source": [
        "cls = Sequential()\n",
        "cls.add(Conv2D(32, (5, 5), input_shape=(28, 28, 1), activation='relu'))\n",
        "cls.add(MaxPooling2D(pool_size=(2, 2)))\n",
        "cls.add(Dropout(0.3))\n",
        "cls.add(Flatten())\n",
        "cls.add(Dense(128, activation='relu'))\n",
        "cls.add(Dense(len(y.unique()), activation='softmax'))\n",
        "\n",
        "cls.compile(loss='categorical_crossentropy', optimizer='adam', metrics=['accuracy'])"
      ],
      "execution_count": 15,
      "outputs": []
    },
    {
      "cell_type": "code",
      "metadata": {
        "id": "WIuICNEEkn5P"
      },
      "source": [
        "cls.compile(optimizer = 'rmsprop',\n",
        "              loss = 'categorical_crossentropy',\n",
        "              metrics = ['accuracy'])"
      ],
      "execution_count": 16,
      "outputs": []
    },
    {
      "cell_type": "code",
      "metadata": {
        "colab": {
          "base_uri": "https://localhost:8080/"
        },
        "id": "CeqeAwGxngLg",
        "outputId": "a93566fa-aed0-4262-8558-006061425d74"
      },
      "source": [
        "cls.fit(train_images, train_labels, epochs=5, batch_size=256)"
      ],
      "execution_count": 17,
      "outputs": [
        {
          "output_type": "stream",
          "text": [
            "Epoch 1/5\n",
            "1092/1092 [==============================] - 5s 5ms/step - loss: 0.2616 - accuracy: 0.9262\n",
            "Epoch 2/5\n",
            "1092/1092 [==============================] - 5s 5ms/step - loss: 0.0817 - accuracy: 0.9773\n",
            "Epoch 3/5\n",
            "1092/1092 [==============================] - 5s 5ms/step - loss: 0.0615 - accuracy: 0.9829\n",
            "Epoch 4/5\n",
            "1092/1092 [==============================] - 5s 5ms/step - loss: 0.0499 - accuracy: 0.9860\n",
            "Epoch 5/5\n",
            "1092/1092 [==============================] - 5s 5ms/step - loss: 0.0425 - accuracy: 0.9878\n"
          ],
          "name": "stdout"
        },
        {
          "output_type": "execute_result",
          "data": {
            "text/plain": [
              "<tensorflow.python.keras.callbacks.History at 0x7f8db9dba710>"
            ]
          },
          "metadata": {
            "tags": []
          },
          "execution_count": 17
        }
      ]
    },
    {
      "cell_type": "code",
      "metadata": {
        "id": "jhECp3a2DEP6"
      },
      "source": [
        "train_images = train_images.reshape(train_images.shape[0], 28, 28).astype('float32')\n",
        "test_images = test_images.reshape(test_images.shape[0], 28, 28).astype('float32')"
      ],
      "execution_count": null,
      "outputs": []
    },
    {
      "cell_type": "code",
      "metadata": {
        "id": "enXFyMj9bOmz"
      },
      "source": [
        "origin_my_image = test_images[0]"
      ],
      "execution_count": 11,
      "outputs": []
    },
    {
      "cell_type": "code",
      "metadata": {
        "colab": {
          "base_uri": "https://localhost:8080/"
        },
        "id": "NT_S0gkCosBK",
        "outputId": "72b2b9fd-7735-47cd-cc70-554aa2c1dd8b"
      },
      "source": [
        "test_loss, test_acc = cls.evaluate(test_images, test_labels)"
      ],
      "execution_count": 18,
      "outputs": [
        {
          "output_type": "stream",
          "text": [
            "2910/2910 [==============================] - 6s 2ms/step - loss: 0.0559 - accuracy: 0.9869\n"
          ],
          "name": "stdout"
        }
      ]
    },
    {
      "cell_type": "code",
      "metadata": {
        "colab": {
          "base_uri": "https://localhost:8080/",
          "height": 283
        },
        "id": "lHyoCXiipN3D",
        "outputId": "f7db83c7-27ce-489f-d52a-e0a829aa28b5"
      },
      "source": [
        "myDigit = origin_my_image\n",
        "plt.imshow(myDigit, cmap=plt.cm.binary)"
      ],
      "execution_count": 19,
      "outputs": [
        {
          "output_type": "execute_result",
          "data": {
            "text/plain": [
              "<matplotlib.image.AxesImage at 0x7f8db8ee4978>"
            ]
          },
          "metadata": {
            "tags": []
          },
          "execution_count": 19
        },
        {
          "output_type": "display_data",
          "data": {
            "image/png": "[encoded data removed]",
            "text/plain": [
              "<Figure size 432x288 with 1 Axes>"
            ]
          },
          "metadata": {
            "tags": [],
            "needs_background": "light"
          }
        }
      ]
    },
    {
      "cell_type": "code",
      "metadata": {
        "id": "TVXyJsGdrN_s"
      },
      "source": [
        "img = Image.open(\"4.jpg\")\n",
        "img = img.resize((28,28))\n",
        "img_data = np.array(img)\n",
        "img_data.shape"
      ],
      "execution_count": null,
      "outputs": []
    },
    {
      "cell_type": "code",
      "metadata": {
        "id": "6rjmFK4QsYS3"
      },
      "source": [
        "plt.imshow(img_data)"
      ],
      "execution_count": null,
      "outputs": []
    },
    {
      "cell_type": "code",
      "metadata": {
        "id": "MwrZTaXssq_p"
      },
      "source": [
        "trans_img = img_data.transpose(2,0,1)\n",
        "trans_img.shape"
      ],
      "execution_count": null,
      "outputs": []
    },
    {
      "cell_type": "code",
      "metadata": {
        "id": "lXPJJJQztUg8"
      },
      "source": [
        "trans_test_img = trans_img[0].reshape((28, 28, 1))\n",
        "train_test_img = train_test_img.reshape(train_test_img.shape[0], 28, 28, 1).astype('float32')"
      ],
      "execution_count": null,
      "outputs": []
    },
    {
      "cell_type": "code",
      "metadata": {
        "id": "Ae1zRkEatqx0"
      },
      "source": [
        "output = model.predict(trans_test_img)\n",
        "print(\"결과는 : \", np.argmax(output))"
      ],
      "execution_count": null,
      "outputs": []
    },
    {
      "cell_type": "code",
      "metadata": {
        "id": "DAzi9Vn7uASJ"
      },
      "source": [
        "output"
      ],
      "execution_count": null,
      "outputs": []
    }
  ]
}